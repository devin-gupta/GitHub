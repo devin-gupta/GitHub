{
 "cells": [
  {
   "cell_type": "code",
   "execution_count": 1,
   "metadata": {},
   "outputs": [],
   "source": [
    "import numpy as np\n",
    "import math\n",
    "import sympy\n",
    "import timeit\n",
    "import matplotlib.pyplot as plt"
   ]
  },
  {
   "cell_type": "markdown",
   "metadata": {},
   "source": [
    "### Helper Functions\n",
    "\n",
    "First we'll define a series of helper functions to our main factorization function. \n",
    "\n",
    "Each one will be as self contained as possible.\n",
    "\n",
    "Implementation of this method: https://kaustubhrakhade.medium.com/shors-factoring-algorithm-94a0796a13b1"
   ]
  },
  {
   "cell_type": "code",
   "execution_count": 2,
   "metadata": {},
   "outputs": [
    {
     "data": {
      "text/plain": [
       "'\\n# Test cases with expected results\\ntest_cases = [9, 27, 15, 20, 37, 64, 81, 121, 7, 49, 16, 18, 23, 25, 11]\\nexpected_results = [False, False, True, False, True, False, False, False, True, False, False, False, True, False, True]\\n\\n# Running the test cases\\nfor i, test in enumerate(test_cases):\\n    result = check_N_conditions(test)\\n    print(f\"Test case {i+1}: N={test}, Expected={expected_results[i]}, Result={result}, {\\'Passed\\' if result == expected_results[i] else \\'Failed\\'}\")\\n'"
      ]
     },
     "execution_count": 2,
     "metadata": {},
     "output_type": "execute_result"
    }
   ],
   "source": [
    "def check_N_conditions(N):\n",
    "    # make sure not even\n",
    "    if N % 2 == 0:\n",
    "        # print(N, \"is even, faield test 1\")\n",
    "        return False\n",
    "    \n",
    "    if sympy.isprime(N):\n",
    "        # print(N, \"is prime, failed test 2\")\n",
    "        return False\n",
    "    \n",
    "    # O(sqrt(n)) loop to check every number to N\n",
    "    for i in range(2, int(math.sqrt(N))+1):\n",
    "        \n",
    "        # make sure not of form n**x\n",
    "        x = 2\n",
    "        while i**x <= N: \n",
    "            if i**x == N:\n",
    "                # print(N, \" is of form N**x, faield test 3\")\n",
    "                return False\n",
    "            x += 1\n",
    "\n",
    "    return True\n",
    "\n",
    "\"\"\"\n",
    "# Test cases with expected results\n",
    "test_cases = [9, 27, 15, 20, 37, 64, 81, 121, 7, 49, 16, 18, 23, 25, 11]\n",
    "expected_results = [False, False, True, False, True, False, False, False, True, False, False, False, True, False, True]\n",
    "\n",
    "# Running the test cases\n",
    "for i, test in enumerate(test_cases):\n",
    "    result = check_N_conditions(test)\n",
    "    print(f\"Test case {i+1}: N={test}, Expected={expected_results[i]}, Result={result}, {'Passed' if result == expected_results[i] else 'Failed'}\")\n",
    "\"\"\""
   ]
  },
  {
   "cell_type": "code",
   "execution_count": 3,
   "metadata": {},
   "outputs": [],
   "source": [
    "def choose_k(N, tried_k=[]):\n",
    "    possible_k = np.arange(1, N)\n",
    "    for k in tried_k:\n",
    "        possible_k = possible_k[possible_k != k]\n",
    "    \n",
    "    return np.random.choice(possible_k)"
   ]
  },
  {
   "cell_type": "code",
   "execution_count": 4,
   "metadata": {},
   "outputs": [],
   "source": [
    "def check_gcd(N, k):\n",
    "    return np.gcd(N, k) == 1"
   ]
  },
  {
   "cell_type": "markdown",
   "metadata": {},
   "source": [
    "This next function is the classical implementation of what could be a quantum implementation. Without the quantum implementation, Shor's method is slower than alternative factoring algorithms in the classical paradigm."
   ]
  },
  {
   "cell_type": "code",
   "execution_count": 5,
   "metadata": {},
   "outputs": [],
   "source": [
    "# main step 4 that should become quantized....\n",
    "def get_order_and_transformation(N, k):\n",
    "    q = 1\n",
    "    remainders = []\n",
    "\n",
    "    while (q*k) % N != 1:\n",
    "        q = (q*k) % N\n",
    "        remainders.append(q)\n",
    "\n",
    "    q = (q*k) % N\n",
    "    remainders.append(q)\n",
    "    \n",
    "    return len(remainders), remainders"
   ]
  },
  {
   "cell_type": "code",
   "execution_count": 6,
   "metadata": {},
   "outputs": [],
   "source": [
    "def get_p(r, tranformation_remainders):\n",
    "    return tranformation_remainders[int(r/2 - 1)]"
   ]
  },
  {
   "cell_type": "markdown",
   "metadata": {},
   "source": [
    "This is for later, but will help us generate random numbers that we might want to factorize."
   ]
  },
  {
   "cell_type": "code",
   "execution_count": 7,
   "metadata": {},
   "outputs": [],
   "source": [
    "def generate_random_non_prime_odd(magnitude):\n",
    "    lower = 10 ** magnitude\n",
    "    upper = (10 ** (magnitude + 1)) - 1\n",
    "    while True:\n",
    "        num = np.random.randint(lower, upper)\n",
    "        # Ensure the number is odd\n",
    "        if num % 2 == 0:\n",
    "            num += 1\n",
    "        if not sympy.isprime(num):\n",
    "            return num"
   ]
  },
  {
   "cell_type": "markdown",
   "metadata": {},
   "source": [
    "### Factorization!\n",
    "Here we put all helper functions together into one main function that returns two factors of the given number. "
   ]
  },
  {
   "cell_type": "code",
   "execution_count": 8,
   "metadata": {},
   "outputs": [],
   "source": [
    "def factorize(N=781):\n",
    "\n",
    "    # Step 1: define N that satisfies conditions\n",
    "    not_done = True\n",
    "\n",
    "    if not check_N_conditions(N):\n",
    "        print(\"N does not satisfy conditions\")\n",
    "        exit()\n",
    "\n",
    "    while not_done:\n",
    "        r = 1\n",
    "\n",
    "        # Step 2: Choose a random k\n",
    "        k = choose_k(N)\n",
    "\n",
    "        # Step 3: Check if gcd(N, k) = 1\n",
    "        if check_gcd(N, k):\n",
    "            pass\n",
    "        else: \n",
    "            # print(\"factors of \", N, \"are\", np.gcd(k, N), \"and\", int(N/np.gcd(k, N)), \"\\n\")\n",
    "            # print(\"random value k = \", k, \", order r = \", 0, \", middle remainder p = n/a\")\n",
    "            return np.gcd(k, N), int(N/np.gcd(k, N))\n",
    "\n",
    "        # Step 4: Find the order of k mod N\n",
    "        r, tranformation_remainders = get_order_and_transformation(N, k)\n",
    "\n",
    "        # Step 5: If the order is odd, go back to step 2\n",
    "        if r % 2 != 0:\n",
    "            not_done = True\n",
    "            continue\n",
    "\n",
    "        # Step 6: Define p\n",
    "        p = get_p(r, tranformation_remainders)\n",
    "        if p + 1 == N: \n",
    "            not_done = True\n",
    "            continue\n",
    "\n",
    "        not_done = False\n",
    "\n",
    "    # Step 7: find and print factors\n",
    "    # print(\"factors of \", N, \"are\", np.gcd(p+1, N), \"and\", np.gcd(p-1, N), \"\\n\")\n",
    "    # print(\"random value k = \", k, \", order r = \", r, \", middle remainder p = \", p)\n",
    "\n",
    "    return np.gcd(p+1, N), np.gcd(p-1, N)"
   ]
  },
  {
   "cell_type": "code",
   "execution_count": 9,
   "metadata": {},
   "outputs": [],
   "source": [
    "def shor_classical_factorization(n):\n",
    "    def recursive_factorize(n, factors):\n",
    "        if n == 1:\n",
    "            return factors\n",
    "        if sympy.isprime(n):\n",
    "            factors[n] = factors.get(n, 0) + 1\n",
    "            return factors\n",
    "        factor1, factor2 = factorize(n)\n",
    "        if sympy.isprime(factor1):\n",
    "            factors[factor1] = factors.get(factor1, 0) + 1\n",
    "        else:\n",
    "            recursive_factorize(factor1, factors)\n",
    "        if sympy.isprime(factor2):\n",
    "            factors[factor2] = factors.get(factor2, 0) + 1\n",
    "        else:\n",
    "            recursive_factorize(factor2, factors)\n",
    "        return factors\n",
    "\n",
    "    factors = {}\n",
    "    return recursive_factorize(n, factors)"
   ]
  },
  {
   "cell_type": "markdown",
   "metadata": {},
   "source": [
    "### Classical Optimized Version\n",
    "\n",
    "We'll use sympy's library for a strong example of fully optimized classical factorization techniques. "
   ]
  },
  {
   "cell_type": "code",
   "execution_count": 10,
   "metadata": {},
   "outputs": [],
   "source": [
    "def classical_factorization(n):\n",
    "    return sympy.factorint(n)"
   ]
  },
  {
   "cell_type": "markdown",
   "metadata": {},
   "source": [
    "### Testing and Plotting\n",
    "\n",
    "Great! Now we're ready to analyze our results. Here we plot input size against time our algorithms took to understand the scaling of each algorithm. "
   ]
  },
  {
   "cell_type": "code",
   "execution_count": 23,
   "metadata": {},
   "outputs": [],
   "source": [
    "nums_to_factor, shor_times, classical_times = [], [], []\n",
    "\n",
    "for num in [51, 329, 1037, 23083, 492371, 2323781, 97451835, 391739481]:\n",
    "    nums_to_factor.append(num)\n",
    "    shor_time = timeit.timeit(f\"factorize({num})\", globals=globals(), number=1)\n",
    "    shor_times.append(shor_time)\n",
    "    classical_time = timeit.timeit(f\"shor_classical_factorization({num})\", globals=globals(), number=1)\n",
    "    classical_times.append(classical_time)"
   ]
  },
  {
   "cell_type": "code",
   "execution_count": 22,
   "metadata": {},
   "outputs": [
    {
     "data": {
      "text/plain": [
       "False"
      ]
     },
     "execution_count": 22,
     "metadata": {},
     "output_type": "execute_result"
    }
   ],
   "source": [
    "sympy.isprime(391739481)"
   ]
  },
  {
   "cell_type": "code",
   "execution_count": 12,
   "metadata": {},
   "outputs": [
    {
     "data": {
      "text/plain": [
       "'max_magnitude = 4\\nsamples = 10\\n\\nshor_times, classical_times = np.zeros((max_magnitude - 1, samples)), np.zeros((max_magnitude - 1, samples))\\nnums_to_factor = np.zeros((max_magnitude - 1, samples))\\n\\nfor mag in range(1, max_magnitude):\\n    for i in range(samples):\\n        num = generate_random_non_prime_odd(mag)\\n        while not check_N_conditions(num):\\n            num = generate_random_non_prime_odd(mag)\\n\\n        nums_to_factor[mag-1, i] = num\\n\\n        shor_times[mag-1, i] = timeit.timeit(f\"shor_classical_factorization({num})\", globals=globals(), number=1)\\n        classical_times[mag-1, i] = timeit.timeit(f\"classical_factorization({num})\", globals=globals(), number=1)'"
      ]
     },
     "execution_count": 12,
     "metadata": {},
     "output_type": "execute_result"
    }
   ],
   "source": [
    "\"\"\"max_magnitude = 4\n",
    "samples = 10\n",
    "\n",
    "shor_times, classical_times = np.zeros((max_magnitude - 1, samples)), np.zeros((max_magnitude - 1, samples))\n",
    "nums_to_factor = np.zeros((max_magnitude - 1, samples))\n",
    "\n",
    "for mag in range(1, max_magnitude):\n",
    "    for i in range(samples):\n",
    "        num = generate_random_non_prime_odd(mag)\n",
    "        while not check_N_conditions(num):\n",
    "            num = generate_random_non_prime_odd(mag)\n",
    "\n",
    "        nums_to_factor[mag-1, i] = num\n",
    "\n",
    "        shor_times[mag-1, i] = timeit.timeit(f\"shor_classical_factorization({num})\", globals=globals(), number=1)\n",
    "        classical_times[mag-1, i] = timeit.timeit(f\"classical_factorization({num})\", globals=globals(), number=1)\"\"\""
   ]
  },
  {
   "cell_type": "code",
   "execution_count": 13,
   "metadata": {},
   "outputs": [
    {
     "data": {
      "text/plain": [
       "'nums_to_factor = np.array([[27, 45, 15, 95, 63, 75, 85, 33, 95, 75],\\n                  [949, 657, 543, 539, 155, 651, 511, 669, 417, 869],\\n                  [5559, 7569, 4371, 9229, 3639, 1899, 7405, 9625, 8809, 7553],\\n                  [85267, 47285, 53067, 93681, 66971, 67517, 11891, 26413, 92975, 33145]])\\n\\nshor_times = np.vectorize(shor_classical_factorization)(nums_to_factor)\\n'"
      ]
     },
     "execution_count": 13,
     "metadata": {},
     "output_type": "execute_result"
    }
   ],
   "source": [
    "\"\"\"nums_to_factor = np.array([[27, 45, 15, 95, 63, 75, 85, 33, 95, 75],\n",
    "                  [949, 657, 543, 539, 155, 651, 511, 669, 417, 869],\n",
    "                  [5559, 7569, 4371, 9229, 3639, 1899, 7405, 9625, 8809, 7553],\n",
    "                  [85267, 47285, 53067, 93681, 66971, 67517, 11891, 26413, 92975, 33145]])\n",
    "\n",
    "shor_times = np.vectorize(shor_classical_factorization)(nums_to_factor)\n",
    "\"\"\""
   ]
  },
  {
   "cell_type": "code",
   "execution_count": 14,
   "metadata": {},
   "outputs": [
    {
     "data": {
      "text/plain": [
       "'# plot the times versus input size for both algorithms\\nplt.loglog(\\n    np.mean(nums_to_factor, axis=1), \\n    np.mean(shor_times, axis=1),\\n    label=\"Shor\\'s Algorithm\")\\nplt.loglog(\\n    np.mean(nums_to_factor, axis=1), \\n    np.mean(classical_times, axis=1),\\n    label=\"Classical Algorithm\")\\nplt.xlabel(\"Input Size\")\\nplt.ylabel(\"Time\")\\nplt.title(\"Shor\\'s Algorithm vs Classical Factorization\")\\nplt.legend()\\nplt.show()'"
      ]
     },
     "execution_count": 14,
     "metadata": {},
     "output_type": "execute_result"
    }
   ],
   "source": [
    "\"\"\"# plot the times versus input size for both algorithms\n",
    "plt.loglog(\n",
    "    np.mean(nums_to_factor, axis=1), \n",
    "    np.mean(shor_times, axis=1),\n",
    "    label=\"Shor's Algorithm\")\n",
    "plt.loglog(\n",
    "    np.mean(nums_to_factor, axis=1), \n",
    "    np.mean(classical_times, axis=1),\n",
    "    label=\"Classical Algorithm\")\n",
    "plt.xlabel(\"Input Size\")\n",
    "plt.ylabel(\"Time\")\n",
    "plt.title(\"Shor's Algorithm vs Classical Factorization\")\n",
    "plt.legend()\n",
    "plt.show()\"\"\""
   ]
  },
  {
   "cell_type": "code",
   "execution_count": 24,
   "metadata": {},
   "outputs": [
    {
     "data": {
      "image/png": "[encoded data removed]",
      "text/plain": [
       "<Figure size 640x480 with 1 Axes>"
      ]
     },
     "metadata": {},
     "output_type": "display_data"
    }
   ],
   "source": [
    "# plot the times versus input size for both algorithms\n",
    "plt.loglog(nums_to_factor, shor_times,\n",
    "    label=\"Shor's Algorithm\")\n",
    "plt.loglog(nums_to_factor, classical_times, \n",
    "    label=\"Classical Algorithm\")\n",
    "plt.xlabel(\"Input Size\")\n",
    "plt.ylabel(\"Time\")\n",
    "plt.title(\"Shor's Algorithm vs Classical Factorization\")\n",
    "plt.legend()\n",
    "plt.show()"
   ]
  }
 ],
 "metadata": {
  "kernelspec": {
   "display_name": ".venv",
   "language": "python",
   "name": "python3"
  },
  "language_info": {
   "codemirror_mode": {
    "name": "ipython",
    "version": 3
   },
   "file_extension": ".py",
   "mimetype": "text/x-python",
   "name": "python",
   "nbconvert_exporter": "python",
   "pygments_lexer": "ipython3",
   "version": "3.12.0"
  }
 },
 "nbformat": 4,
 "nbformat_minor": 2
}
