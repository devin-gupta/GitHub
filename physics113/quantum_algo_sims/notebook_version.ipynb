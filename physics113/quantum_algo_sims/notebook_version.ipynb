{
 "cells": [
  {
   "cell_type": "code",
   "execution_count": 6,
   "metadata": {},
   "outputs": [
    {
     "name": "stdout",
     "output_type": "stream",
     "text": [
      "Requirement already satisfied: pip in ./venv/lib/python3.8/site-packages (23.0.1)\n",
      "Collecting pip\n",
      "  Using cached pip-24.0-py3-none-any.whl (2.1 MB)\n",
      "Installing collected packages: pip\n",
      "  Attempting uninstall: pip\n",
      "    Found existing installation: pip 23.0.1\n",
      "    Uninstalling pip-23.0.1:\n",
      "      Successfully uninstalled pip-23.0.1\n",
      "Successfully installed pip-24.0\n"
     ]
    }
   ],
   "source": [
    "import sys\n",
    "# !{sys.executable} -m pip install qiskit_aer\n",
    "!{sys.executable} -m pip install --upgrade pip"
   ]
  },
  {
   "cell_type": "code",
   "execution_count": 1,
   "metadata": {},
   "outputs": [],
   "source": [
    "import math\n",
    "from qiskit_aer import Aer\n",
    "from qiskit_aer.utils import transpile_noise_model\n",
    "from qiskit import transpile, QuantumCircuit\n",
    "from qiskit.circuit.library import GroverOperator, MCMT, ZGate\n",
    "from qiskit.visualization import plot_histogram"
   ]
  },
  {
   "cell_type": "code",
   "execution_count": 6,
   "metadata": {},
   "outputs": [],
   "source": [
    "from qiskit_aer.noise import NoiseModel\n",
    "from qiskit_aer.noise import depolarizing_error"
   ]
  },
  {
   "cell_type": "code",
   "execution_count": 3,
   "metadata": {},
   "outputs": [],
   "source": [
    "# To run on Aer simulator:\n",
    "backend = Aer.get_backend('qasm_simulator')\n",
    "\n",
    "def grover_oracle(marked_states):\n",
    "    \"\"\"Build a Grover oracle for multiple marked states\n",
    "\n",
    "    Here we assume all input marked states have the same number of bits\n",
    "\n",
    "    Parameters:\n",
    "        marked_states (str or list): Marked states of oracle\n",
    "\n",
    "    Returns:\n",
    "        QuantumCircuit: Quantum circuit representing Grover oracle\n",
    "    \"\"\"\n",
    "    if not isinstance(marked_states, list):\n",
    "        marked_states = [marked_states]\n",
    "    # Compute the number of qubits in circuit\n",
    "    num_qubits = len(marked_states[0])\n",
    "\n",
    "    qc = QuantumCircuit(num_qubits)\n",
    "    # Mark each target state in the input list\n",
    "    for target in marked_states:\n",
    "        # Flip target bit-string to match Qiskit bit-ordering\n",
    "        rev_target = target[::-1]\n",
    "        # Find the indices of all the '0' elements in bit-string\n",
    "        zero_inds = [ind for ind in range(num_qubits) if rev_target.startswith(\"0\", ind)]\n",
    "        # Add a multi-controlled Z-gate with pre- and post-applied X-gates (open-controls)\n",
    "        # where the target bit-string has a '0' entry\n",
    "        qc.x(zero_inds)\n",
    "        qc.compose(MCMT(ZGate(), num_qubits - 1, 1), inplace=True)\n",
    "        qc.x(zero_inds)\n",
    "    return qc"
   ]
  },
  {
   "cell_type": "code",
   "execution_count": 4,
   "metadata": {},
   "outputs": [],
   "source": [
    "marked_states = [\"011\", \"100\"]\n",
    "\n",
    "oracle = grover_oracle(marked_states)\n",
    "\n",
    "grover_op = GroverOperator(oracle)\n",
    "\n",
    "optimal_num_iterations = math.floor(\n",
    "    math.pi / (4 * math.asin(math.sqrt(len(marked_states) / 2**grover_op.num_qubits)))\n",
    ")"
   ]
  },
  {
   "cell_type": "code",
   "execution_count": 5,
   "metadata": {},
   "outputs": [],
   "source": [
    "qc = QuantumCircuit(grover_op.num_qubits)\n",
    "# Create even superposition of all basis states\n",
    "qc.h(range(grover_op.num_qubits))\n",
    "# Apply Grover operator the optimal number of times\n",
    "qc.compose(grover_op.power(optimal_num_iterations), inplace=True)\n",
    "# Measure all qubits\n",
    "qc.measure_all()"
   ]
  },
  {
   "cell_type": "code",
   "execution_count": 7,
   "metadata": {},
   "outputs": [],
   "source": [
    "# Defining noise models for gates above\n",
    "def get_noise_model():\n",
    "    # Error probs\n",
    "    error_probs = {\n",
    "        \"reset\": 0.03, \n",
    "        \"x\": 0.03,      \n",
    "        \"cx\": 0.05      \n",
    "    }\n",
    "\n",
    "    # Create a depolarizing noise model\n",
    "    noise_model = NoiseModel()\n",
    "    for gate_name, prob in error_probs.items():\n",
    "        noise_model.add_quantum_error(depolarizing_error(prob, 1))\n",
    "    return noise_model"
   ]
  },
  {
   "cell_type": "code",
   "execution_count": 8,
   "metadata": {},
   "outputs": [
    {
     "ename": "TypeError",
     "evalue": "add_quantum_error() missing 2 required positional arguments: 'instructions' and 'qubits'",
     "output_type": "error",
     "traceback": [
      "\u001b[0;31m---------------------------------------------------------------------------\u001b[0m",
      "\u001b[0;31mTypeError\u001b[0m                                 Traceback (most recent call last)",
      "Cell \u001b[0;32mIn[8], line 2\u001b[0m\n\u001b[1;32m      1\u001b[0m \u001b[38;5;66;03m# Noise model\u001b[39;00m\n\u001b[0;32m----> 2\u001b[0m noise_model \u001b[38;5;241m=\u001b[39m \u001b[43mget_noise_model\u001b[49m\u001b[43m(\u001b[49m\u001b[43m)\u001b[49m\n\u001b[1;32m      4\u001b[0m circ_ \u001b[38;5;241m=\u001b[39m transpile(qc, backend)\n\u001b[1;32m      5\u001b[0m circ_ \u001b[38;5;241m=\u001b[39m transpile_noise_model(circ_, noise_model) \u001b[38;5;66;03m# Apply noise model\u001b[39;00m\n",
      "Cell \u001b[0;32mIn[7], line 13\u001b[0m, in \u001b[0;36mget_noise_model\u001b[0;34m()\u001b[0m\n\u001b[1;32m     11\u001b[0m noise_model \u001b[38;5;241m=\u001b[39m NoiseModel()\n\u001b[1;32m     12\u001b[0m \u001b[38;5;28;01mfor\u001b[39;00m gate_name, prob \u001b[38;5;129;01min\u001b[39;00m error_probs\u001b[38;5;241m.\u001b[39mitems():\n\u001b[0;32m---> 13\u001b[0m     \u001b[43mnoise_model\u001b[49m\u001b[38;5;241;43m.\u001b[39;49m\u001b[43madd_quantum_error\u001b[49m\u001b[43m(\u001b[49m\u001b[43mdepolarizing_error\u001b[49m\u001b[43m(\u001b[49m\u001b[43mprob\u001b[49m\u001b[43m,\u001b[49m\u001b[43m \u001b[49m\u001b[38;5;241;43m1\u001b[39;49m\u001b[43m)\u001b[49m\u001b[43m)\u001b[49m\n\u001b[1;32m     14\u001b[0m \u001b[38;5;28;01mreturn\u001b[39;00m noise_model\n",
      "\u001b[0;31mTypeError\u001b[0m: add_quantum_error() missing 2 required positional arguments: 'instructions' and 'qubits'"
     ]
    }
   ],
   "source": [
    "# Noise model\n",
    "noise_model = get_noise_model()\n",
    "\n",
    "circ_ = transpile(qc, backend)\n",
    "circ_ = transpile_noise_model(circ_, noise_model) # Apply noise model\n",
    "job = backend.run(circ_)\n",
    "result = job.result()\n",
    "counts = result.get_counts()\n",
    "\n",
    "plot_histogram(counts)\n",
    "print(counts)"
   ]
  }
 ],
 "metadata": {
  "kernelspec": {
   "display_name": "venv",
   "language": "python",
   "name": "python3"
  },
  "language_info": {
   "codemirror_mode": {
    "name": "ipython",
    "version": 3
   },
   "file_extension": ".py",
   "mimetype": "text/x-python",
   "name": "python",
   "nbconvert_exporter": "python",
   "pygments_lexer": "ipython3",
   "version": "3.8.18"
  }
 },
 "nbformat": 4,
 "nbformat_minor": 2
}
