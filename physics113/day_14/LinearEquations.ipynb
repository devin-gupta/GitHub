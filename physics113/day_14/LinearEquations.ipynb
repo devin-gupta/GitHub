{
 "cells": [
  {
   "cell_type": "markdown",
   "metadata": {},
   "source": [
    "# Simultaneous linear equations\n",
    "\n",
    "Today's notebook is short and sweet! Practice that array indexing!"
   ]
  },
  {
   "cell_type": "code",
   "execution_count": 1,
   "metadata": {},
   "outputs": [],
   "source": [
    "import numpy as np"
   ]
  },
  {
   "cell_type": "markdown",
   "metadata": {},
   "source": [
    "## Gaussian elimination\n",
    "\n",
    "Let's say we want to solve a system of equations of the form \n",
    "\n",
    "$$\\mathbf{A} \\mathbf{x} = \\mathbf{v}$$\n",
    "\n",
    "where $\\mathbf{A}$ is a matrix and $\\mathbf{x}$ and $\\mathbf{v}$ are both vectors. Clearly one way to solve this equation is to invert the matrix $\\mathbf{A}$. That can be tricky, however. In this notebook we will explore a fast, accurate, and straightforward method for solving problems like this that does not involve a matrix inversion. The method is **Gaussian elimination**. To see how it works, recall that we can always do the following:\n",
    "\n",
    "1. Multiply any of our simultaneous equations by a nonzero constant, and it's still the same equation.\n",
    "2. Take any linear combination of two equations, and we get another correct equation.\n",
    "\n",
    "Consider the following:\n",
    "\n",
    "$$\\left(\\begin{matrix}\n",
    "       2 & 1 & 4 \\\\\n",
    "       3 & 4   & -1\\\\\n",
    "       1 & -4  & 1 \\\\\n",
    "\\end{matrix}\\right) \\left(\\begin{matrix} x_1 \\\\\n",
    "x_2 \\\\\n",
    "x_3\\\\\n",
    "\\end{matrix}\\right) = \\left(\\begin{matrix} -4 \\\\\n",
    "3 \\\\\n",
    "9\\\\\n",
    "\\end{matrix}\\right)$$\n",
    "\n",
    "We are going to perform the operations 1 and 2 until we have re-expressed this system of equations as an **upper triangular** matrix, where all diagonal elements are 1 and only the upper righthand triangle of values is nonzero. \n",
    "\n",
    "To start with, let's divide the first row by 2 to make the upper lefthand element 1.\n",
    "\n",
    "$$\\left(\\begin{matrix}\n",
    "       1 & 0.5 & 2 \\\\\n",
    "       3 & 4   & -1\\\\\n",
    "       1 & -4  & 1 \\\\\n",
    "\\end{matrix}\\right) \\left(\\begin{matrix} x_1 \\\\\n",
    "x_2 \\\\\n",
    "x_3\\\\\n",
    "\\end{matrix}\\right) = \\left(\\begin{matrix} -2 \\\\\n",
    "3 \\\\\n",
    "9\\\\\n",
    "\\end{matrix}\\right)$$\n",
    "\n",
    "Notice that of course we have to divide both $\\mathbf{A}$ and $\\mathbf{v}$ by this value in the correct row. Now we turn our attention to the second row, which has a 3 as its first element. Let's eliminate that by subtracting 3 times the first row from the second, to get:\n",
    "\n",
    "$$\\left(\\begin{matrix}\n",
    "       1 & 0.5 & 2 \\\\\n",
    "       0 & 2.5   & -7\\\\\n",
    "       1 & -4  & 1 \\\\\n",
    "\\end{matrix}\\right) \\left(\\begin{matrix} x_1 \\\\\n",
    "x_2 \\\\\n",
    "x_3\\\\\n",
    "\\end{matrix}\\right) = \\left(\\begin{matrix} -2 \\\\\n",
    "9 \\\\\n",
    "9\\\\\n",
    "\\end{matrix}\\right)$$\n",
    "\n",
    "Keep it up until the first row of the matrix is $(1, 0, 0, 0)$, and then move on to the second row, and so on and so forth until we arrive at our upper triangular matrix:\n",
    "\n",
    "$$\\left(\\begin{matrix}\n",
    "       1 & 0.5 & 2 \\\\\n",
    "       0 & 1   & -2.8\\\\\n",
    "       0 & 0  & 1 \\\\\n",
    "\\end{matrix}\\right) \\left(\\begin{matrix} x_1 \\\\\n",
    "x_2 \\\\\n",
    "x_3\\\\\n",
    "\\end{matrix}\\right) = \\left(\\begin{matrix} -2 \\\\\n",
    "3.6 \\\\\n",
    "-2\\\\\n",
    "\\end{matrix}\\right)$$\n",
    "\n",
    "Now we can very simply read off the solutions to our equations using **backsubstitution**: clearly\n",
    "\n",
    "$$x_3 = -2$$\n",
    "\n",
    "which we just plug in to find $$x_2 = 3.6 - -2.8*x_3 = 3.6 - 5.6 = -2$$\n",
    "\n",
    "and so on. Done! Let's tackle a concrete problem that requires us to code up Gaussian elimination. "
   ]
  },
  {
   "cell_type": "markdown",
   "metadata": {},
   "source": [
    "## Circuit of resistors\n",
    "\n",
    "Consider the following circuit of resistors:\n",
    "\n",
    "\n",
    "\n",
    "<img src=\"data/resistor_circuit.jpeg\" alt=\"A circuit of nine resistors\" width=\"300\"/>\n",
    "\n",
    "\n",
    "All the resistors have the same resistance $R$. $V_+$ at the top is at voltage $V_+$ = 5 V. What are the other four voltages, $V_1$ to $V_2$?\n",
    "\n",
    "To answer this question we use Ohm's law and the Kirchhoff current law, which says that the total net current out of (or into) any junction in a circuit must be zero. For the junction at voltage $V_1$, for example, we find:\n",
    "\n",
    "$$\\frac{V_1 - V_2}{R} + \\frac{V_1 - V_3}{R} + \\frac{V_1 - V_4}{R} + \\frac{V_1 - V_+}{R} = 0$$\n",
    "\n",
    "which we can simplify to \n",
    "\n",
    "$$4 V_1 - V_2 - V_3 - V_4 = V_+$$\n",
    "\n",
    "&#128310; Write similar equations for the other three junctions with unknown voltages. ✅"
   ]
  },
  {
   "cell_type": "markdown",
   "metadata": {},
   "source": [
    "✍🏽 For the junction at $V_2$: \n",
    "\n",
    "$$\\frac{V_2 - V_1}{R} + \\frac{V_2 - 0}{R} + \\frac{V_2 - V_4}{R} = 0$$\n",
    "$$ 3 V_2 - V_1 - V_4 = 0 $$\n",
    "\n",
    "For the junction at $V_3$: \n",
    "\n",
    "$$\\frac{V_3 - V_4}{R} + \\frac{V_3 - V_1}{R} + \\frac{V_3 - V_+}{R} = 0$$\n",
    "$$ 3 V_3 - V_4 - V_1 = V_+ $$\n",
    "\n",
    "For the junction at $V_4$: \n",
    "\n",
    "$$\\frac{V_4 - 0}{R} + \\frac{V_4 - V_2}{R} + \\frac{V_4 - V_1}{R} + \\frac{V_4 - V_3}{R} = 0$$\n",
    "$$ 4 V_4 - V_2 - V_1 - V_3 = 0 $$"
   ]
  },
  {
   "cell_type": "markdown",
   "metadata": {},
   "source": [
    "&#128309; Define and print $\\textbf{A}$ and $\\textbf{v}$ as numpy arrays, following the comments below. ✅"
   ]
  },
  {
   "cell_type": "code",
   "execution_count": 80,
   "metadata": {},
   "outputs": [
    {
     "name": "stdout",
     "output_type": "stream",
     "text": [
      "A is \n",
      " [[ 4. -1. -1. -1.]\n",
      " [-1.  3.  0. -1.]\n",
      " [-1.  0.  3. -1.]\n",
      " [-1. -1. -1.  4.]] \n",
      " \n",
      " and v is  [5. 0. 5. 0.]\n"
     ]
    }
   ],
   "source": [
    "# Define a numpy array A of type float filled with your values. Make this readable! Remember that you can have line breaks for expressions in parentheses.\n",
    "A = np.array([[4, -1, -1, -1],\n",
    "              [-1, 3, 0, -1],\n",
    "              [-1, 0, 3, -1],\n",
    "              [-1, -1, -1, 4]], dtype=float)\n",
    "\n",
    "# Define a numpy array v of type float filled with your values. \n",
    "V = np.array([5, 0, 5, 0], dtype=float)\n",
    "\n",
    "# Print the arrays A and v to check that they are correct.\n",
    "print(\"A is \\n\", A, \"\\n \\n and v is \", V)"
   ]
  },
  {
   "cell_type": "markdown",
   "metadata": {},
   "source": [
    "&#128309; Solve this system of equations using Gaussian elimination, following the code comments below. ✅"
   ]
  },
  {
   "cell_type": "code",
   "execution_count": 81,
   "metadata": {},
   "outputs": [
    {
     "name": "stdout",
     "output_type": "stream",
     "text": [
      "[3.         1.66666667 3.33333333 2.        ]\n"
     ]
    }
   ],
   "source": [
    "# Find nrows and ncols, the number of rows and columns in A.\n",
    "nrows, ncols = A.shape\n",
    "# Step through the rows of A. Make this loop readable!\n",
    "for row in range(nrows): \n",
    "    # Divide the row entries in A and v by the diagonal element in A.\n",
    "    V[row] /= A[row][row]\n",
    "    A[row] /= A[row][row]\n",
    "    # Step through the lower rows of A, and subtract multiples of the current row from the lower rows of A and v.\n",
    "    for lower_row in range(row +1, nrows):\n",
    "        V[lower_row] -= A[lower_row][row] * V[row]\n",
    "        A[lower_row] -= A[lower_row][row] * A[row]\n",
    "        \n",
    "# ******** The following steps are for backsubstitution! *********\n",
    "# Define a numpy array x of type float filled with zeros. Make it the same size as v. This will hold your solution.\n",
    "X = np.zeros(V.shape, dtype=float)\n",
    "# Step through the rows of A from the bottom up. \n",
    "for row in range(nrows-1, -1, -1):\n",
    "    # Set the value of x at the current row to the value of v at the current row.\n",
    "    X[row] = V[row]\n",
    "    # For each lower row, subtract the appropriate multiple of x from the current row.\n",
    "    for lower_row in range(row+1, nrows):\n",
    "        X[row] -= A[row][lower_row] * X[lower_row]\n",
    "# Print the solution x.\n",
    "print(X)"
   ]
  },
  {
   "cell_type": "markdown",
   "metadata": {},
   "source": [
    "&#128309; Print your final version of A to verify that it is upper triangular, and that all diagonal elements are 1. ✅"
   ]
  },
  {
   "cell_type": "code",
   "execution_count": 82,
   "metadata": {},
   "outputs": [
    {
     "name": "stdout",
     "output_type": "stream",
     "text": [
      "[[ 1.         -0.25       -0.25       -0.25      ]\n",
      " [ 0.          1.         -0.09090909 -0.45454545]\n",
      " [ 0.          0.          1.         -0.5       ]\n",
      " [ 0.          0.          0.          1.        ]]\n"
     ]
    }
   ],
   "source": [
    "print(A)"
   ]
  },
  {
   "cell_type": "markdown",
   "metadata": {},
   "source": [
    "&#128309; Let's do that in an easier way. Use  <a target=\"_blank\" rel=\"noopener noreferrer\"  href=\"https://numpy.org/doc/stable/reference/generated/numpy.linalg.solve.html\" >np.linalg.solve</a> to solve the above in a single line. Did you get the same answer? ✅"
   ]
  },
  {
   "cell_type": "code",
   "execution_count": 83,
   "metadata": {},
   "outputs": [
    {
     "name": "stdout",
     "output_type": "stream",
     "text": [
      "[3.         1.66666667 3.33333333 2.        ]\n"
     ]
    }
   ],
   "source": [
    "A = np.array([[4, -1, -1, -1],\n",
    "              [-1, 3, 0, -1],\n",
    "              [-1, 0, 3, -1],\n",
    "              [-1, -1, -1, 4]], dtype=float)\n",
    "\n",
    "V = np.array([5, 0, 5, 0], dtype=float)\n",
    "\n",
    "X = np.linalg.solve(A, V)\n",
    "\n",
    "print(X)"
   ]
  },
  {
   "cell_type": "markdown",
   "metadata": {},
   "source": [
    "✍🏽 I did get the same answer! This makes sense as both methods should end up at the same answer."
   ]
  },
  {
   "cell_type": "markdown",
   "metadata": {},
   "source": [
    "&#128310; Translate your solution to sentences, i.e., write out in words what your solution to the resistor problem is. ✅"
   ]
  },
  {
   "cell_type": "markdown",
   "metadata": {},
   "source": [
    "✍🏽 In words, the voltage at $V_1$ is 3V, the voltage at $V_2$ is 1.667V, the voltage at $V_3$ is 3.333V, and the voltage at $V_4$ is 2V. We used the system of linear equations to solve the Ohm's laws constraints to find the voltage at each point in our circuit."
   ]
  },
  {
   "cell_type": "markdown",
   "metadata": {},
   "source": [
    "&#128310; What if we started out with a matrix $\\mathbf{A}$ that had a 0 as its upper lefthand value? What could we have done in our algorithm to avoid trouble? ✅"
   ]
  },
  {
   "cell_type": "markdown",
   "metadata": {},
   "source": [
    "✍🏽 If this was the case, we could've added a different row over back to the upper row to ensure we didn't have a 0 lefthand corner value. We could also just have swapped two rows to ensure that this wasn't the case. Both of these methods would've ensured that matrix A didn't have 0 as an upper lefthand value."
   ]
  },
  {
   "cell_type": "markdown",
   "metadata": {},
   "source": [
    "# Acknolwedgments\n",
    "\n",
    "S.E. Clark 2024, with resistor problem adapted from Newman 2013."
   ]
  }
 ],
 "metadata": {
  "kernelspec": {
   "display_name": ".venv",
   "language": "python",
   "name": "python3"
  },
  "language_info": {
   "codemirror_mode": {
    "name": "ipython",
    "version": 3
   },
   "file_extension": ".py",
   "mimetype": "text/x-python",
   "name": "python",
   "nbconvert_exporter": "python",
   "pygments_lexer": "ipython3",
   "version": "3.11.4"
  }
 },
 "nbformat": 4,
 "nbformat_minor": 2
}
