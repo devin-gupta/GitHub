{
 "cells": [
  {
   "cell_type": "markdown",
   "metadata": {},
   "source": [
    "# Quantum Shor's algorithm\n",
    "\n",
    "Here is the quantum version of the shor's algorithm that we built in the main runner file. "
   ]
  },
  {
   "cell_type": "markdown",
   "metadata": {},
   "source": [
    "### Classical Part \n",
    "\n",
    "We implemented a similar version of this for our main runner code, but for simplicity, we keep the implementation that the author of this work built. "
   ]
  },
  {
   "cell_type": "code",
   "execution_count": 1,
   "metadata": {
    "ExecuteTime": {
     "end_time": "2019-03-10T16:13:02.148239Z",
     "start_time": "2019-03-10T16:13:02.102360Z"
    },
    "collapsed": true,
    "jupyter": {
     "outputs_hidden": true
    }
   },
   "outputs": [],
   "source": [
    "# basic imports\n",
    "import math\n",
    "import random\n",
    "import sys\n",
    "from fractions import Fraction\n",
    "from builtins import input\n",
    "import numpy as np\n",
    "import timeit\n",
    "\n",
    "# qiskit imports\n",
    "from qiskit.providers.basic_provider import BasicProvider\n",
    "from qiskit import QuantumCircuit, ClassicalRegister, QuantumRegister\n",
    "from qiskit.visualization import plot_histogram\n",
    "\n",
    "def shor(N, attempts = 1):\n",
    "    \n",
    "    # build compilation engine list\n",
    "    rule_set = DecompositionRuleSet(modules=[projectq.libs.math,\n",
    "                                             projectq.setups.decompositions])\n",
    "    compilerengines = [AutoReplacer(rule_set),\n",
    "                       InstructionFilter(high_level_gates),\n",
    "                       TagRemover(),\n",
    "                       LocalOptimizer(3),\n",
    "                       AutoReplacer(rule_set),\n",
    "                       TagRemover(),\n",
    "                       LocalOptimizer(3)]\n",
    "\n",
    "    # make the compiler and run the circuit on the simulator backend\n",
    "    eng = MainEngine(Simulator(), compilerengines)\n",
    "    \n",
    "    for attempt in range(attempts):\n",
    "        print(\"-----------------------------------\")\n",
    "        print(\"\\nAttempt #\" + str(attempt))\n",
    "        \n",
    "        x = random.randint(0, N)\n",
    "        print(\"Random x between 0 and N-1 --> \", str(x))\n",
    "        \n",
    "        '''If the GCD is not 1, x is a nontrivial factor of N, so we're done'''\n",
    "        if (math.gcd(x, N) != 1):\n",
    "            print(\"\\nFactors found classically, re-attempt...\")\n",
    "            continue\n",
    "        \n",
    "        '''Otherwise it means that x and N are coprime\n",
    "        Here the quantum part starts: Shor's algorithm tries to find r, the period of x^a mod n, where n is \n",
    "        the number to be factored and x is an integer coprime to n.\n",
    "        It is important to underline the r  is the smallest positive integer such that x^r = 1 mod N\n",
    "        '''\n",
    "        r = find_period(eng, N, x, verbose=False)\n",
    "        \n",
    "        '''If r is odd or if x^r/2 = -1 (mod N), choose another x\n",
    "        EXPLANATION: we already know that x^r/2 is NOT congruent to 1 (mod N), otherwise the order of x would be r/2,\n",
    "        instead of r. So we have to check only that x^r/2 is NOT congruent to -1 (mod N)\n",
    "        '''\n",
    "        if ((r % 2 != 0) or (pow(x, int(r/2), N) == -1)): \n",
    "            print(\"r is odd or x^r/2 = -1 (mod N), re-attempt...\")\n",
    "            continue\n",
    "            \n",
    "        print(\"\\nPeriod found: \" + str(r))\n",
    "        \n",
    "        p = math.gcd(x**int(r / 2) + 1, N)\n",
    "        q = math.gcd(x**int(r / 2) - 1, N)\n",
    "        \n",
    "        if ((not p * q == N) and p * q > 1 and int(1. * N / (p * q)) * p * q == N):\n",
    "            p, q = p * q, int(N / (p * q))\n",
    "        if p * q == N and p > 1 and q > 1:\n",
    "            print(\"\\nFactors found: {} * {} = {}.\".format(p, q, N))\n",
    "            break\n",
    "        else:\n",
    "            print(\"\\nBad luck: Found {} and {}\".format(p, q))"
   ]
  },
  {
   "cell_type": "markdown",
   "metadata": {},
   "source": [
    "#### Qiskit circuit example with N = 15\n",
    "\n",
    "One of the primary challenges of quantum implementations of classical algorithms is that as we design the quantum circuit to solve this factoring challenge, the circuit we must design changes as the input size scales. A 5-10 qubit system to solve a low input size challenge would take extraordinarily long to compute hence is impractical. Anyways here we hardcode some of these quantum gate operations for the value 15 hence making it a non-scalable system. "
   ]
  },
  {
   "cell_type": "code",
   "execution_count": 2,
   "metadata": {
    "ExecuteTime": {
     "end_time": "2019-05-18T13:09:42.176992Z",
     "start_time": "2019-05-18T13:09:42.169014Z"
    },
    "collapsed": true,
    "jupyter": {
     "outputs_hidden": true
    }
   },
   "outputs": [],
   "source": [
    "# This short circuit is the controlled unitary operation\n",
    "def circuit_2mod15(qc,qr,cr):\n",
    "    qc.cswap(qr[4],qr[3],qr[2])\n",
    "    qc.cswap(qr[4],qr[2],qr[1])\n",
    "    qc.cswap(qr[4],qr[1],qr[0])"
   ]
  },
  {
   "cell_type": "code",
   "execution_count": 3,
   "metadata": {
    "ExecuteTime": {
     "end_time": "2019-05-18T13:09:44.615393Z",
     "start_time": "2019-05-18T13:09:44.505687Z"
    },
    "collapsed": true,
    "jupyter": {
     "outputs_hidden": true
    }
   },
   "outputs": [],
   "source": [
    "def circuit_aperiod15(qc,qr,cr,a):\n",
    "    \n",
    "    # Initialize q[0] to |1> \n",
    "    qc.x(qr[0])\n",
    "\n",
    "    # Apply a**4 mod 15\n",
    "    # ------------------\n",
    "    qc.h(qr[4])\n",
    "    # Controlled identity on the remaining 4 qubits, which is equivalent to doing nothing\n",
    "    qc.h(qr[4])\n",
    "    # Measure quantum bit into classical bit\n",
    "    qc.measure(qr[4],cr[0])\n",
    "    # Reinitialise q[4] to |0>\n",
    "    qc.reset(qr[4])\n",
    "\n",
    "    # Apply a**2 mod 15\n",
    "    # ------------------\n",
    "    qc.h(qr[4])\n",
    "    # Controlled unitary: cx(self, ctl, tgt),\n",
    "    # apply CX from ctl to tgt\n",
    "    qc.cx(qr[4],qr[2])\n",
    "    qc.cx(qr[4],qr[0])\n",
    "    # Feed forward / U1 gate allows to apply a quantum phase, while 'c_if' adds a classical control register\n",
    "    qc.p(math.pi/2., qr[4]).c_if(cr, 1)\n",
    "    qc.h(qr[4])\n",
    "    # Measure\n",
    "    qc.measure(qr[4],cr[1])\n",
    "    # Reinitialise q[4] to |0>\n",
    "    qc.reset(qr[4])\n",
    "\n",
    "    # Apply a mod 15\n",
    "    # ------------------\n",
    "    qc.h(qr[4])\n",
    "    # Controlled unitary\n",
    "    circuit_2mod15(qc,qr,cr)\n",
    "    # Feed forward\n",
    "    qc.p(3.*math.pi/4.,qr[4]).c_if(cr, 3)\n",
    "    qc.p(math.pi/2.,qr[4]).c_if(cr, 2)\n",
    "    qc.p(math.pi/4.,qr[4]).c_if(cr, 1)\n",
    "    qc.h(qr[4])\n",
    "    # Measure\n",
    "    qc.measure(qr[4],cr[2])"
   ]
  },
  {
   "cell_type": "code",
   "execution_count": 4,
   "metadata": {
    "ExecuteTime": {
     "end_time": "2019-05-18T13:18:00.099427Z",
     "start_time": "2019-05-18T13:17:58.581898Z"
    }
   },
   "outputs": [],
   "source": [
    "def quantum_shor():\n",
    "    # we use 5 qubits for this implementation\n",
    "    q = QuantumRegister(5, 'q')\n",
    "    c = ClassicalRegister(5, 'c')\n",
    "\n",
    "    shor = QuantumCircuit(q, c)\n",
    "    circuit_aperiod15(shor,q,c,2)\n",
    "    shor.draw(output='mpl') # use this to draw quantum circuit if desired.\n",
    "\n",
    "    backend = BasicProvider().get_backend('basic_simulator')\n",
    "    sim_result = backend.run([shor]).result()\n",
    "    sim_data = sim_result.get_counts(shor) \n",
    "    plot_histogram(sim_data) # use this to visualize simulation data if desired\n",
    "\n",
    "    r=2\n",
    "    a = int(max(sim_data, key=sim_data.get), 2)\n",
    "    factor1 = np.gcd(int(a**(r/2) -1), 15)\n",
    "    factor2 = np.gcd(int(a**(r/2) +1), 15)\n",
    "\n",
    "    # print with robustness against (5, 1) type integer factorizations\n",
    "    if factor1 == 1: \n",
    "        print(\"\\n factor 1: \", int(15/factor2), \" and factor 2: \", factor2)\n",
    "    else:\n",
    "        print(\"\\n factor 1: \", factor1, \" and factor 2: \", int(15/factor1))"
   ]
  },
  {
   "cell_type": "code",
   "execution_count": 8,
   "metadata": {},
   "outputs": [
    {
     "name": "stdout",
     "output_type": "stream",
     "text": [
      "\n",
      " factor 1:  5  and factor 2:  3\n",
      "\n",
      " The time factoring n=15 took was:  0.2674624170176685  seconds.\n"
     ]
    }
   ],
   "source": [
    "print(\"\\n The time factoring n=15 took was: \", timeit.timeit(quantum_shor, globals=globals(), number=1), \" seconds.\")"
   ]
  }
 ],
 "metadata": {
  "kernelspec": {
   "display_name": "Python 3",
   "language": "python",
   "name": "python3"
  },
  "language_info": {
   "codemirror_mode": {
    "name": "ipython",
    "version": 3
   },
   "file_extension": ".py",
   "mimetype": "text/x-python",
   "name": "python",
   "nbconvert_exporter": "python",
   "pygments_lexer": "ipython3",
   "version": "3.12.0"
  },
  "toc": {
   "base_numbering": 1,
   "nav_menu": {},
   "number_sections": false,
   "sideBar": true,
   "skip_h1_title": false,
   "title_cell": "Table of Contents",
   "title_sidebar": "Contents",
   "toc_cell": false,
   "toc_position": {},
   "toc_section_display": true,
   "toc_window_display": false
  }
 },
 "nbformat": 4,
 "nbformat_minor": 4
}
