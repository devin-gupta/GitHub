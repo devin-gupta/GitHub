{
 "cells": [
  {
   "cell_type": "markdown",
   "metadata": {},
   "source": [
    "### Day 14\n",
    "#### 5/18 Ramesh Johari's Introduction to Game Theory\n",
    "\n",
    "Creating Auctions - Mechanism Design\n",
    "We need to determine who wins and how much each bidder pays? \n",
    "\n",
    "Some examples of auctions include: second-price, first-price and all-pay\n",
    "\n",
    "Notably: strategies aren't just my bid. strategies are <b>mappings</b> from my value to my bid.\n",
    "\n",
    "<b>Open Question: algorithimically generating payment and auction rules given data around my auction and other auctions to maximize some objective. Basically black-boxing auction design. </b>"
   ]
  },
  {
   "cell_type": "markdown",
   "metadata": {},
   "source": [
    "#### First Price Auction\n",
    "\n",
    "We search for a symmetric BNE where all players use a bid function $ s(v) = \\alpha v $ for some $ \\alpha \\in [0,1] $.\n",
    "\n",
    "<b> Open Question: plausibility and tractibility maybe matter in contraining the strategy space. Ways that information modeling incorporates assumptions limits our ability to ask questions about if or if not we can discover the \"invisible hand\" idea. </b>"
   ]
  },
  {
   "cell_type": "code",
   "execution_count": null,
   "metadata": {},
   "outputs": [],
   "source": []
  }
 ],
 "metadata": {
  "kernelspec": {
   "display_name": "Python 3.11.2 64-bit",
   "language": "python",
   "name": "python3"
  },
  "language_info": {
   "name": "python",
   "version": "3.11.2"
  },
  "orig_nbformat": 4,
  "vscode": {
   "interpreter": {
    "hash": "aee8b7b246df8f9039afb4144a1f6fd8d2ca17a180786b69acc140d282b71a49"
   }
  }
 },
 "nbformat": 4,
 "nbformat_minor": 2
}
