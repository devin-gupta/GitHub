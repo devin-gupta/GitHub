{
 "cells": [
  {
   "cell_type": "markdown",
   "metadata": {},
   "source": [
    "### Final Day\n",
    "#### 6/12 Ramesh Johari's Introduction to Game Theory\n",
    "\n",
    "The final is on Tuesday (tomorrow) and hence today I'll be studying. \n",
    "\n",
    "#### Lecture 11: Market For Lemons\n",
    "\n",
    "Setup: Buyer has a used car valued at $ \\$v $ and buyer wants the car where they value it at $ \\$ 1.5v $. Let's suppose $ v $ is common knowledge, and for a random price $ p $, the buyer and seller simultaneously choose accept or reject. Here, trade occurs if $ p \\in [v, 1.5v] $. \n",
    "\n",
    "Modification: Suppose buyer doesn't know $v$ and $v$ is drawn uniformly from [0,1000]. The seller will only accept if $ p \\ge v $, and buyer's expected payoff is: $$ E[1.5v-p | p \\ge v] * P(p \\ge v) + E[0 | p < v] * P(p < v) = -\\frac{p^2}{4000} < 0 $$Because $ p < v $, we find that the buyer should never accept. \n",
    "\n",
    "<i>Adverse Selection</i>: the seller onlys shows the price to the buyer if the value is \"low\" and this shows up everywhere. \n",
    "\n",
    "#### Lecture 12: Auctions\n",
    "ACTIVITY: compare and chart second-price, first-price and an all pay auction format. \n",
    "\n",
    "As a bayesian game, auctions are run as the following: nature chooses $v$<sub>i</sub> ~ $F $ independentally. Bidder $ i $ observes only $v$<sub>i</sub> and chooses $b$<sub>i</sub>. Winner and payments rules are applied.\n",
    "\n",
    "Expected revenue of a second highest valuation: $ E[R] = \\int_0^1 x f_R(x) dx = (n-1)/(n+1) $ where $ n $ is the number of players. \n",
    "\n",
    "Complicated math gives us shading factor for first price auction : $ s(v) = (1-1/n)v $ with same expected revenue at second price auction. \n",
    "\n",
    "<i>Revenue equivalence</i>: any auction that satisfies (1) valuations are independent random variables, (2) highest bidder wins, (3) any bidder that bids zero makes zero payment, will have the same expected revenue of the BNE of the first and second price auction (for every BNE). <i>Payoff equivalence</i>: this expands to every player recieving the same as all BNE again regardless of format. \n",
    "\n",
    "#### Lecture 13: More on Auctions\n",
    "\n",
    "<i>Relevation Principle</i>: in any auction $A$ with a given BNE, we can construct a new auction $B$ where players simaltaneously choose bids, telling the truth is a BNE, and the resulting payoffs exactly match original BNE of $A$. \n",
    "\n",
    "Optimal Auction design is a second price auction with a reserve price, hence the optimal reserve price is 1/2 regardless of the number of bidders. \n",
    "\n",
    "<img src=\"optimalreserve.png\"\n",
    "     style=\"width: 50%; \" />\n",
    "\n",
    "#### Lecture 14: Signaling\n",
    "\n",
    "Signaling = dynamic games of incomplete information. This is when nature moves first and chooses type for each player, then play proceeds dynamically with multiple stages, but each time players update their beliefs about other player's types via Bayes' rule.\n",
    "\n",
    "A <b>PBE</b> specifies 1) strategies that are complete contingent plans, 2) beliefs where \"whenever possible\" beliefs must be computed using Bayes' rule and the strategies of each player. \n",
    "---"
   ]
  },
  {
   "cell_type": "markdown",
   "metadata": {},
   "source": [
    "#### Practice Exam \n",
    "\n",
    "1a) No, because we have only met the condition of weakly dominant, we can imagine the payoff matrix where every payoff is 1 for every player in every action. This satisfies the conditions but has many other pure nash eq. \n",
    "\n",
    "1b) Because there are no nash eq, there can never be any single stage pure NE. Furthermore, because there is no \"threat\" capability by choosing or forcing action through threatening a suboptimal nash eq, there is also no multiple stage SPNE. \n",
    "\n",
    "1c) This game satisfies the requirements for revenue and payoff equivalence: all the valuations are independent random variables, highest bidder wins and a zero bid = zero payoff. Hence we know the revenue is the same as a second price auction where the payoff is $ \\frac{n-1}{n+1}$ (main ans). Alternatively, we can calculate that the winner will bid $s$ and hence the winner will pay $s$ and make a payoff of $s$. Hence the expected revenue which we'll define as the winning bid, is just 0. \n",
    "\n",
    "2a) To prove weak dominance, we must prove that each bidder will not benefit by deviating (every other action is at equal or worse). If $ b_2 = v_2 $, then we know if $ b_1 < v_1 $ and $ b_1 \\ge v_2 $, we get a payoff of $ v_1 - v_2 $ which is the same as simply bidding our value. This is true as long as $ v_1 \\ge v_2 $. Hence we only have to consider if $ v_1 < v_2 $. In this case, we wouldn't want $ b_1 \\ge v_2 $ because we'd win and pay $ b_1 $, hence we'd need to choose a $ b_1 < v_2 $, which $ b_1 = v_1 $ satisfies. This logic is reciprocal for $ p_2 $.\n",
    "\n",
    "2b) We can analyze this game through revenue equivalence. The requirements for revenue equivalence are 1) all valuations are independent and uniform distributions from [0,1], 2) bidders can bid zero and 3) highest bidder wins. All these conditions are met hence this has the same revenue as a second price auction with a revenue of $ \\frac{n-1}{n+1} $.  \n",
    "\n",
    "3a) For any discount factor $ \\delta $, these strategies are a SPNE because (a,b) is dominant for both players and no players are incentivized to deviate even for 1 turn. \n",
    "\n",
    "3b) CHECK HOW MATH WORKS FOR $\\delta$\n",
    "\n",
    "3c) Strategy for player 1: if x = 1, play A, if x = -1, play B. Strategy for player 2: if y = 1, play b, if y = -1, play a. "
   ]
  }
 ],
 "metadata": {
  "kernelspec": {
   "display_name": "Python 3.11.2 64-bit",
   "language": "python",
   "name": "python3"
  },
  "language_info": {
   "name": "python",
   "version": "3.11.2"
  },
  "orig_nbformat": 4,
  "vscode": {
   "interpreter": {
    "hash": "aee8b7b246df8f9039afb4144a1f6fd8d2ca17a180786b69acc140d282b71a49"
   }
  }
 },
 "nbformat": 4,
 "nbformat_minor": 2
}
