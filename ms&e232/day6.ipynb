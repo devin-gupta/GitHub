{
 "cells": [
  {
   "cell_type": "markdown",
   "metadata": {},
   "source": [
    "### Day 6\n",
    "#### 4/20 Ramesh Johari's Introduction to Game Theory\n",
    "\n",
    "We're continuing discussions of finding nash equilibria as well as introducing optimization. \n",
    "\n",
    "#### Optimization / Finding Nash Equilibria\n",
    "\n",
    "Two main approaches\n",
    "1. compute the best response mappings for every player -> any intersection between the best response mappings is a pure NE. \n",
    "2. \"Guess\": Fix a strategy profile and check is any player benefits from deviation. \n",
    "\n",
    "Hence 1) nash equilibria are hard to find, especially if you're the one designing the game. And 2) \n",
    "\n",
    "How do players choose to play NE? \n",
    "1. A third party recommends each player to player their best strategy and each player agrees and does so. Ex. Ebay suggesting just bid your value. \n",
    "2. Each player believes other players will play s<sub>-i</sub> and hence they play s<sub>i</sub>.\n",
    "\n",
    "#### Routing Games\n",
    "\n",
    "We can define a potential function: \n",
    "\n",
    "V(s) = $\\sum$ (z(s))\n",
    "where z represents the delay.\n",
    "\n",
    "In network routing games, best response dynamics converge to NE. Not true for general games.\n",
    "\n",
    "Now we played the same game as Day 3:\n"
   ]
  },
  {
   "cell_type": "code",
   "execution_count": 1,
   "metadata": {},
   "outputs": [
    {
     "name": "stdout",
     "output_type": "stream",
     "text": [
      "# of players: 15\n",
      "average guess is: 5.0\n",
      "two thirds of average is: 3.333333333333333\n"
     ]
    }
   ],
   "source": [
    "j = 0\n",
    "\n",
    "strategies = [39, 0, 0, 0, 0, 3, 4, 1, 1, 2, 2, 2, 7, 9, 5]\n",
    "\n",
    "for i in strategies: \n",
    "    j = j + i\n",
    "\n",
    "average = j/len(strategies)\n",
    "two_thirds = (2/3)*average\n",
    "\n",
    "print(\"# of players\", len(strategies), sep=\": \")\n",
    "print(\"average guess is\", average, sep=\": \")\n",
    "print(\"two thirds of average is\", two_thirds, sep=\": \")"
   ]
  },
  {
   "cell_type": "markdown",
   "metadata": {},
   "source": [
    "#### Mixed Nash\n",
    "\n",
    "We know that there not only exists pure nash (which requires IEWDS), there also exists mixed nash where both players randomize their strategies to head for a probabilistic distribution of strategy play. \n",
    "\n",
    "Chiappori et al. (2002) reviews mixed-strategy equilibria for soccer penalty kicks and left-middle-right dynamics. "
   ]
  }
 ],
 "metadata": {
  "kernelspec": {
   "display_name": "Python 3.11.2 64-bit",
   "language": "python",
   "name": "python3"
  },
  "language_info": {
   "codemirror_mode": {
    "name": "ipython",
    "version": 3
   },
   "file_extension": ".py",
   "mimetype": "text/x-python",
   "name": "python",
   "nbconvert_exporter": "python",
   "pygments_lexer": "ipython3",
   "version": "3.11.2"
  },
  "orig_nbformat": 4,
  "vscode": {
   "interpreter": {
    "hash": "aee8b7b246df8f9039afb4144a1f6fd8d2ca17a180786b69acc140d282b71a49"
   }
  }
 },
 "nbformat": 4,
 "nbformat_minor": 2
}
