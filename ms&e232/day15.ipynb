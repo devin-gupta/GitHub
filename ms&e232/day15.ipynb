{
 "cells": [
  {
   "cell_type": "markdown",
   "metadata": {},
   "source": [
    "### Day 15\n",
    "#### 5/23 Ramesh Johari's Introduction to Game Theory\n",
    "\n",
    "Recap from last lecture: \n",
    "* Revenue Equivalence: first price auction and second price auction give same expected revenue to auctioneer. Generally, any auction where valuations are independent random variables, highest bidder wins and any bidder that bids zero makes zero payment has the same expected revenue as the BNE of the first and second price auctions. \n",
    "* This extends to payoff equivalence -> expected payoff to a bidder conditional on their valuation is the same in all BNE. \n",
    "* Finding expected value of highest number under uniform distribution: \n",
    "* consider uniform distribution from 0 to 1: get an even spacing of N players hence highest value is expected to be N/(N+1) and second highest is probably (N-1)/(N+1)\n",
    "\n",
    "$$ E[N-1, U[o, v_i]] = \\frac{(N-1)}{N}v_i $$\n",
    "\n",
    "#### Optimal Auction Design\n",
    "What is the \"optimal\" or revenue maximizing design for auctioneer? Optimizing over strategy spaces, basically intractible. \n",
    "1. Revelation Principle: If you give me an auction A and a BNE of that auction, I'll construct a new auction B where players simultaneously choose real valued bids, telling the truth is a BNE, and has the same BNE as auction A. This gives us <b>incentive compability</b> and <b>individual rationality</b>. \n",
    "2. When values are independent and uniform $ U[0,1] $. The optimal auction is a second price auction with a reserve price R. Increase R as number of bidders increase, optimizing over R because R is the only remaining variable. \n",
    "\n",
    "$$ W(v) = v - \\frac{1-F(v)}{f(v)} $$\n",
    "\n",
    "#### Reserve Pricing in Practice\n",
    "Yahoo!\n",
    "* setting optimal reserve prices at <b>yahoo</b>. \n",
    "* backed out valauations with lognormal valuation distributions and empirical data. \n",
    "* previously used $0.1 per auction for every keyword for reserve pricing. \n",
    "* estimated optimal reserve prices ranged from $0.05 to $2.50\n",
    "* for frequently searched keywords with >10 searches/day, gained ~4% increase in reveneue. \n",
    "\n",
    "eBay v Amazon Auctions\n",
    "* key difference was termination rule: amazon kept auctions open 10 minutes after last bid. \n",
    "* on eBay \"bid sniping\" or bidding close to deadline is prevelant. \n",
    "\n",
    "Correlated values versus Common Values. \n",
    "\n",
    "\n"
   ]
  },
  {
   "cell_type": "code",
   "execution_count": null,
   "metadata": {},
   "outputs": [],
   "source": []
  }
 ],
 "metadata": {
  "kernelspec": {
   "display_name": "Python 3.11.2 64-bit",
   "language": "python",
   "name": "python3"
  },
  "language_info": {
   "name": "python",
   "version": "3.11.2"
  },
  "orig_nbformat": 4,
  "vscode": {
   "interpreter": {
    "hash": "aee8b7b246df8f9039afb4144a1f6fd8d2ca17a180786b69acc140d282b71a49"
   }
  }
 },
 "nbformat": 4,
 "nbformat_minor": 2
}
