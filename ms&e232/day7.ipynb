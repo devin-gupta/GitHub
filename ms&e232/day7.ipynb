{
 "cells": [
  {
   "cell_type": "markdown",
   "metadata": {},
   "source": [
    "### Day 6\n",
    "#### 4/20 Ramesh Johari's Introduction to Game Theory\n",
    "\n",
    "Most games are actually dynamic games; static games really only exist in manafactured scenarios. \n",
    "We can represent dynamic games in extensive form by using a binary tree representation.\n",
    "- Strategic or normal form of a game : matrix representation\n",
    "- Extensive Form of the game : tree representation"
   ]
  },
  {
   "cell_type": "code",
   "execution_count": null,
   "metadata": {},
   "outputs": [],
   "source": [
    "import sys\n",
    "!{sys.executable} -m pip install binarytree"
   ]
  },
  {
   "cell_type": "code",
   "execution_count": null,
   "metadata": {},
   "outputs": [],
   "source": [
    "from binarytree import Node\n",
    "\n",
    "root = Node('root')\n",
    "root.left = Node('U')\n",
    "root.right = Node('D')\n",
    "root.left.left = Node('L')\n",
    "root.left.right = Node('D')\n",
    "root.right.left = Node('L')\n",
    "root.right.right = Node('D')\n",
    "root.left.left.left = Node(\"(4,1)\")\n",
    "root.left.right.right = Node(\"(1,2)\")\n",
    "root.right.left.left = Node(\"(2,1)\")\n",
    "root.right.right.right = Node(\"(0,0)\")\n",
    "\n",
    "\n",
    "print(root)"
   ]
  },
  {
   "cell_type": "code",
   "execution_count": null,
   "metadata": {},
   "outputs": [],
   "source": [
    "from binarytree import build\n",
    "\n",
    "values = [\"root\", \"U\", \"D\", \"L\", \"D\", \"L\", \"D\", \"(4,1)\", None, None, \"(1,2)\", \"(2,1)\", None, None, \"(0,0)\"]\n",
    "root = build(values)\n",
    "print(root)"
   ]
  },
  {
   "cell_type": "markdown",
   "metadata": {},
   "source": [
    "#### Developing Formalism\n",
    "\n",
    "1. Each node <i>v</i> that is not a leaf is identified with unique player <i>I(v)</i>\n",
    "2. Edges that go out from a given node are actions of that player. \n",
    "\n",
    "\n",
    "#### Strategies in dynamic games\n",
    "Given an extensive form game, a strategy s<sub>i</sub> for player <i>i</i> is a <b>complete contingent plan</b>.\n",
    "For each <i>v</i> such that <i>I(v)</i>,\n",
    "s<sub>i</sub>(v) specifies the action of player <i>i</i>.\n",
    "\n",
    "#### Subgame perfect NE\n",
    "\n",
    "For each strategy within the subgame, each strategy must be credible. These become known as a SPNE.\n",
    "To describe the equilibrium strategy, we must describe the equilibrium path of play. \n",
    "If asked about SPNE: give strategy (D, RL), equilibrium path of play (D, L) and payoffs (2, 1).\n"
   ]
  }
 ],
 "metadata": {
  "kernelspec": {
   "display_name": "Python 3.11.2 64-bit",
   "language": "python",
   "name": "python3"
  },
  "language_info": {
   "codemirror_mode": {
    "name": "ipython",
    "version": 3
   },
   "file_extension": ".py",
   "mimetype": "text/x-python",
   "name": "python",
   "nbconvert_exporter": "python",
   "pygments_lexer": "ipython3",
   "version": "3.11.2"
  },
  "orig_nbformat": 4,
  "vscode": {
   "interpreter": {
    "hash": "aee8b7b246df8f9039afb4144a1f6fd8d2ca17a180786b69acc140d282b71a49"
   }
  }
 },
 "nbformat": 4,
 "nbformat_minor": 2
}
