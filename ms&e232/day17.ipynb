{
 "cells": [
  {
   "cell_type": "markdown",
   "metadata": {},
   "source": [
    "### Day 17\n",
    "#### 5/30 Ramesh Johari's Introduction to Game Theory\n",
    "\n",
    "One of the questions on the final: gives us a game, asks us if its a static game of complete info, dynamic game of complete info, static game of incomplete info (bayesian games) -> in an auction, you know your type but the other person doesn't know. \n",
    "\n",
    "The only remaining one is <b>Dynamic games of incomplete information</b>. Most real-world events happen in this category because most negotiations and games happen over time. \n",
    "\n",
    "Ways to model: \n",
    "1. Nature moves first and chooses types for each player. \n",
    "2. play can proceed dynamically. \n",
    "3. depending on what players observe about others play, they will update their beliefs. \n",
    "4. new decisions are made using bayes rule. \n",
    "\n",
    "<i>Question:</i> how have game theorists tackled the complexity of PDEs? \n",
    "\n",
    "#### First type of Dynamic Game w incomplete: Signaling Games, ex 1\n",
    "* Nature moves first\n",
    "* p1 with private info moves first, p2 observes action.\n",
    "* p2 moves second based on p1's action\n",
    "* then payoffs are realized\n",
    "\n",
    "<b>More formally:</b>\n",
    "Stage 0: Nature chooses random variable t<sub>1</sub>, observable to p2 from distribution P(t<sub>1</sub>). \n",
    "\n",
    "Stage 1: \n",
    "\n",
    "Stage 2: \n",
    "\n",
    "\n",
    "\n",
    "Application 1 in labor markets: education and experience decisions act as signals to employers where your cv is a signal.\n",
    "\n",
    "Application 2 in online auctions: advertised quality of a good is a signal from seller to buyer.\n",
    "\n",
    "Application 3 in contracting: declared demand forecast acts as a signal for how much supplier capacity should be.\n",
    "\n",
    "<b><i>IMPORTANT: even if someone is making a decision based on nature, complete contingent plan includes what would've happened in a different nature outcome.</i><b>\n",
    "\n",
    "Question: if payoffs were slightly different, how different would strategies be? is there a measure for this? what is it called? comparable to stiffness factor in PDE. "
   ]
  },
  {
   "cell_type": "code",
   "execution_count": null,
   "metadata": {},
   "outputs": [],
   "source": []
  }
 ],
 "metadata": {
  "kernelspec": {
   "display_name": "Python 3.11.2 64-bit",
   "language": "python",
   "name": "python3"
  },
  "language_info": {
   "name": "python",
   "version": "3.11.2"
  },
  "orig_nbformat": 4,
  "vscode": {
   "interpreter": {
    "hash": "aee8b7b246df8f9039afb4144a1f6fd8d2ca17a180786b69acc140d282b71a49"
   }
  }
 },
 "nbformat": 4,
 "nbformat_minor": 2
}
