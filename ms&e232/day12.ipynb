{
 "cells": [
  {
   "cell_type": "markdown",
   "metadata": {},
   "source": [
    "### Day 12\n",
    "#### 5/11 Ramesh Johari's Introduction to Game Theory\n",
    "\n",
    "<b>Complete versus incomplete information</b>\n",
    "\n",
    "Nearly infinite complexity when you even have one unknown variable. Because --> I need to predict what my opponent is predicting about my predictions. This recursiveness introduces exponential complexity. \n",
    "\n",
    "##### John Harsanyi\n",
    "\n",
    "He proposes a method of looking at imperfect information games as dynamic games with imperfect information. \n",
    "1. He introduces a third player \"nature\" that chooses firm 2's cost according to a <b> common prior </b>. \n",
    "2. Firm 2 observes the cost and firm 1 does not. \n",
    "3. Game continues as normal. \n",
    "\n",
    "Terminology\n",
    "<i> Bayesian games </i> : having a prior makes a game bayesian\n",
    "<i>Games of asymetric information </i> : both players have different information\n",
    "\n",
    "Bayesian Nash Equilibrium\n",
    "- find best response for each player under each element of the prior. \n",
    "\n",
    "##### Important Inequalities \n",
    "q1's production is between what it would've produced in high and low cost world (because of uncertainty)\n",
    "q2's production in low cost world is below what it would've produced with certainty\n",
    "q2's production in high cost world is higher than what it would've produced with certainty\n",
    "\n",
    "##### Algorithim to Find Bayes-Nash Eq\n",
    "1. Find strategies for players other than i\n",
    "2. find best repsonse for player i\n",
    "3. for each type of player i\n",
    "4. and given ...\n",
    "\n",
    "##### Last midterm question\n",
    "\n",
    "<a>https://en.wikipedia.org/wiki/Sport_climbing_at_the_2020_Summer_Olympics_%E2%80%93_Men%27s_combined </a>\n",
    "\n",
    "##### Game of the day\n",
    "1. car salesman sells a car whose value is drawn uniformly between 1 and 1000, and i chose a price p. \n",
    "2. buyer's value is 1.5 * v. you see price p and decide to accept or reject\n",
    "3. salesman payoff is v if car is kept, p if car is bought. \n",
    "4. buyer's payoff is 1.5*v - p if car is bought, zero if car isn't bought."
   ]
  },
  {
   "cell_type": "code",
   "execution_count": 41,
   "metadata": {},
   "outputs": [
    {
     "name": "stdout",
     "output_type": "stream",
     "text": [
      "value is:  48\n",
      "price is:  71\n",
      "we should:  accept\n"
     ]
    }
   ],
   "source": [
    "import random\n",
    "value = random.randrange(1, 100)\n",
    "print(\"value is: \", value)\n",
    "\n",
    "price = random.randrange(value, 100)\n",
    "print(\"price is: \", price)\n",
    "\n",
    "def checker(value, price):\n",
    "    # print(\"if accept, seller gets: \", price, \" and buyer gets: \", (1.5*value - price))\n",
    "    # print(\"if reject, seller gets: \", value, \" and buyer gets: \", 0)\n",
    "\n",
    "    if (1.5*value - price) > 0:\n",
    "        return \"accept\"\n",
    "    else:\n",
    "        return \"reject\"\n",
    "\n",
    "print(\"we should: \", checker(value, price))\n"
   ]
  },
  {
   "cell_type": "markdown",
   "metadata": {},
   "source": [
    "Here we have the \"market for lemons game\" in which we have a buyer and salesman. I'm modeling here by testing every combination of price and value and seeing in what percentage do we win. Let's test. "
   ]
  },
  {
   "cell_type": "code",
   "execution_count": 54,
   "metadata": {},
   "outputs": [
    {
     "name": "stdout",
     "output_type": "stream",
     "text": [
      "accept:  5513 reject:  4487\n"
     ]
    }
   ],
   "source": [
    "a = 0\n",
    "b = 0\n",
    "for i in range(10000):\n",
    "    value = random.randrange(1, 100)\n",
    "    price = random.randrange(value, 100)\n",
    "    if checker(value, price) == \"accept\":\n",
    "        a += 1\n",
    "    else:\n",
    "        b += 1\n",
    "\n",
    "\n",
    "# print(\"value is: \", value, \"price is: \", price, \"we should: \", checker(value, price))\n",
    "print(\"accept: \", a, \"reject: \", b)"
   ]
  },
  {
   "cell_type": "markdown",
   "metadata": {},
   "source": [
    "It's really interesting! We should accept ~55% of the time while rejecting is favorable ~44% of the time. I wonder if this is because our price setting function is unoptimized. Currently we are pulling a random distribution across every price higher than the value, but maybe there's a better game theoretic way to do this. "
   ]
  }
 ],
 "metadata": {
  "kernelspec": {
   "display_name": "Python 3.11.2 64-bit",
   "language": "python",
   "name": "python3"
  },
  "language_info": {
   "codemirror_mode": {
    "name": "ipython",
    "version": 3
   },
   "file_extension": ".py",
   "mimetype": "text/x-python",
   "name": "python",
   "nbconvert_exporter": "python",
   "pygments_lexer": "ipython3",
   "version": "3.11.2"
  },
  "orig_nbformat": 4,
  "vscode": {
   "interpreter": {
    "hash": "aee8b7b246df8f9039afb4144a1f6fd8d2ca17a180786b69acc140d282b71a49"
   }
  }
 },
 "nbformat": 4,
 "nbformat_minor": 2
}
