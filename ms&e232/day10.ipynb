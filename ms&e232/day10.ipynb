{
 "cells": [
  {
   "cell_type": "markdown",
   "metadata": {},
   "source": [
    "### Day 10\n",
    "#### 5/4 Ramesh Johari's Introduction to Game Theory\n",
    "\n",
    "PunishDefection strategy ensures that both players cooperate due to a credible threat of much worse nash equilibrium.\n",
    "This relies on some \"caring about the future\" which is modeled by an infinite game with a relevant discount factor. \n",
    "\n",
    "Consider RewardCooperation: \n",
    "- I initially play \"defect\". \n",
    "- If either player cooperates, both players then cooperate forever. \n",
    "\n",
    "Set up trigger strategies as SPNE for general games: \n",
    "(1) Every player commits to <b>a</b> instead of <b>a</b><sub>NE</sub>. But if anyone plays anything other than <b>a</b> then everyone will then play <b>a</b><sub>NE</sub> forever. \n",
    "(2) We can prove there will always be some $\\delta$ or discount factor such that the trigger strategy is an SPNE. \n",
    "\n",
    "QUESTION: has there been research into making friends and being nice initially? If corporate context where I won't see people again, $\\delta$ might be low and hence its harder to start trusting and make friends. Versus if $\\delta$ is large (new team or university), we ensure people trust initially and hence induce cooperation-cooperation strategies.\n",
    "\n",
    "TfT against punishdefect isn't SPNE."
   ]
  }
 ],
 "metadata": {
  "kernelspec": {
   "display_name": "Python 3.11.2 64-bit",
   "language": "python",
   "name": "python3"
  },
  "language_info": {
   "name": "python",
   "version": "3.11.2"
  },
  "orig_nbformat": 4,
  "vscode": {
   "interpreter": {
    "hash": "aee8b7b246df8f9039afb4144a1f6fd8d2ca17a180786b69acc140d282b71a49"
   }
  }
 },
 "nbformat": 4,
 "nbformat_minor": 2
}
