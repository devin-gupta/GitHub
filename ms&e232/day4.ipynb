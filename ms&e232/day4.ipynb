{
 "cells": [
  {
   "cell_type": "markdown",
   "metadata": {},
   "source": [
    "#### Day 4: \n",
    "We've submitted the first pset and now must work on the next pset.\n",
    "1. Review of the beauty contest game\n",
    "2. Cournot Duopoly!\n",
    "    - cournot means \"firms are choosing quantity of production\". very common model\n",
    "    - players: n = 2 firms\n",
    "    - strategy: each firm chooses a quantity they want to produce si >= 0. \n",
    "    - cost of producing si is c(si). c is the marginal cost\n",
    "    - (inverse) demand curve: price = p(s1 + s2) = a-b(s1+s2)\n",
    "    - payoffs: profit = Ui(s1,s2) = si P(s1 + s2) - c si\n",
    "    - best response: given some s2, what should s1 do? a maximum of a parabola of profit/utility function.\n",
    "\n",
    "    - nuances: cost of production and pricing is actually not really common knowledge. \n"
   ]
  },
  {
   "cell_type": "code",
   "execution_count": null,
   "metadata": {},
   "outputs": [],
   "source": [
    "# example of situation\n",
    "\n",
    "u1 = s1*(10 - s1 - s2) - 5*s1"
   ]
  },
  {
   "cell_type": "markdown",
   "metadata": {},
   "source": [
    "final thoughts on cournot duopoly: \n",
    "- very strong dominant strategy equilibrium \n",
    "- for any oligopoly, it is not dominance solvable anymore. "
   ]
  }
 ],
 "metadata": {
  "kernelspec": {
   "display_name": "Python 3.11.2 64-bit",
   "language": "python",
   "name": "python3"
  },
  "language_info": {
   "name": "python",
   "version": "3.11.2"
  },
  "orig_nbformat": 4,
  "vscode": {
   "interpreter": {
    "hash": "aee8b7b246df8f9039afb4144a1f6fd8d2ca17a180786b69acc140d282b71a49"
   }
  }
 },
 "nbformat": 4,
 "nbformat_minor": 2
}
