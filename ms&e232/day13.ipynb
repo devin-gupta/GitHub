{
 "cells": [
  {
   "cell_type": "markdown",
   "metadata": {},
   "source": [
    "### Day 13\n",
    "#### 5/16 Ramesh Johari's Introduction to Game Theory\n",
    "\n",
    "Continuing Market for Lemons Game\n",
    "1. For any value of <i>v</i>, both players know that buyer should end up with the car because they have objectively a higher value. \n",
    "2. The seller would only sell with a price that is greater than the actual true value <i>v</i>.\n",
    "\n",
    "This is an example of an adverse selection game. \n",
    "\n",
    "#### First assume <i>v</i> is common knowledge\n",
    "In this case, both accepting is a pure NE when the price is within <i>v</i> and 1.5*<i>v</i>. Alternatively said, the trade takes place as long as the price is between buyer and seller's value.\n",
    "\n",
    "#### Now assume <i>v</i> is not common knowledge\n",
    "<i>v</i> is drawn uniformly. \n",
    "\n",
    "The seller's strategy is to accept if the price is greater than <i>v</i>.\n",
    "We can find the buyer's expected payoff if they accept:\n",
    "$$E[1.5v-p|p\\ge v] * P(p \\ge v) + E[0|p<v] * P(p<v)$$\n",
    "\n",
    "And hence we also know the following \n",
    "\n",
    "$$ =(0.75p-p)*p/1000 = -p^2/4000 < 0 $$\n",
    "\n",
    "Because this is below 0, the buyer will not accept and hence there is no BNE where the car is sold.\n",
    "\n",
    "#### Adverse Selection\n",
    "\n",
    "The key note here is the expected value of the car when the seller has accepted is actually much lower than the uniform distribution. This is known as adverse selection - the options you have have already been filtered.\n",
    "\n",
    "We can address adverse selection by using reputation or credibility.\n"
   ]
  },
  {
   "cell_type": "markdown",
   "metadata": {},
   "source": [
    "#### Next Game : Private Value Auction\n",
    "\n",
    "Every player gets a card, with a number on it. The value of their gift card is the number on the card +/- 10. We choose a bid and the highest bid wins, then pays the bid and gets the gift card."
   ]
  }
 ],
 "metadata": {
  "kernelspec": {
   "display_name": "Python 3.11.2 64-bit",
   "language": "python",
   "name": "python3"
  },
  "language_info": {
   "name": "python",
   "version": "3.11.2"
  },
  "orig_nbformat": 4,
  "vscode": {
   "interpreter": {
    "hash": "aee8b7b246df8f9039afb4144a1f6fd8d2ca17a180786b69acc140d282b71a49"
   }
  }
 },
 "nbformat": 4,
 "nbformat_minor": 2
}
