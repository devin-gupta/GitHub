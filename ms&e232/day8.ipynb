{
 "cells": [
  {
   "cell_type": "markdown",
   "metadata": {},
   "source": [
    "### Day 8\n",
    "#### 4/27 Ramesh Johari's Introduction to Game Theory\n",
    "\n",
    "We've just finished defining subgame perfect nash equilibria. To do so we need : \n",
    "1. Complete contigent plans (strategies for each player)\n",
    "2. To describe equilibrium path of play\n",
    "3. The payoffs for each player\n",
    "\n",
    "Now we'll learn about <b>backward induction</b>! If we consider the binary tree - we can wrk upwards from the extensive form of the game and solve every biforcation, then labeling the biforcation with the optimal payoff downstream.   "
   ]
  },
  {
   "cell_type": "code",
   "execution_count": null,
   "metadata": {},
   "outputs": [],
   "source": [
    "from binarytree import build\n",
    "\n",
    "values = [\"root\", \"U\", \"D\", \"L\", \"D\", \"L\", \"D\", \"(4,1)\", None, None, \"(1,2)\", \"(2,1)\", None, None, \"(0,0)\"]\n",
    "root = build(values)\n",
    "print(root)\n",
    "\n",
    "values = [\"root\", \"U\", \"(2,1)\", \"L\", \"D\", None, None, \"(4,1)\", None, None, \"(1,2)\", None, None, None, None]\n",
    "root = build(values)\n",
    "print(root)"
   ]
  },
  {
   "cell_type": "markdown",
   "metadata": {},
   "source": [
    "Because backwards induction is iterative, we can capture the (D, RL) SPNE. \n",
    "\n",
    "Consider the sentipede game. \n",
    "1. At each node, alternating players choose to p (pass) or s (stop).\n",
    "2. At each node, the total payoff doubles but the player who stops gets (4/5) of the total. \n",
    "What is the SPNE? "
   ]
  },
  {
   "cell_type": "code",
   "execution_count": null,
   "metadata": {},
   "outputs": [],
   "source": [
    "# n = 4\n",
    "i = 5\n",
    "\n",
    "for n in range(1, 8):\n",
    "    reward = pow(2, (n-1)) * 5\n",
    "    if (n % 2) == 0 : \n",
    "        print(\"(\", 0.2*reward, \", \", 0.8*reward, \")\")\n",
    "    else : \n",
    "        print(\"(\", 0.8*reward, \", \", 0.2*reward, \")\")"
   ]
  },
  {
   "cell_type": "markdown",
   "metadata": {},
   "source": [
    "We can determine that the SPNE is Player 1 stops immediately and the payoffs is (4, 1). "
   ]
  }
 ],
 "metadata": {
  "kernelspec": {
   "display_name": "Python 3.11.2 64-bit",
   "language": "python",
   "name": "python3"
  },
  "language_info": {
   "codemirror_mode": {
    "name": "ipython",
    "version": 3
   },
   "file_extension": ".py",
   "mimetype": "text/x-python",
   "name": "python",
   "nbconvert_exporter": "python",
   "pygments_lexer": "ipython3",
   "version": "3.11.2"
  },
  "orig_nbformat": 4,
  "vscode": {
   "interpreter": {
    "hash": "aee8b7b246df8f9039afb4144a1f6fd8d2ca17a180786b69acc140d282b71a49"
   }
  }
 },
 "nbformat": 4,
 "nbformat_minor": 2
}
