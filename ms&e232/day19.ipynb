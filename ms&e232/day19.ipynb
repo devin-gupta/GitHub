{
 "cells": [
  {
   "cell_type": "markdown",
   "metadata": {},
   "source": [
    "### Day 19\n",
    "#### 6/6 Ramesh Johari's Introduction to Game Theory\n",
    "\n",
    "Final Notes: basically no difference than midterm. bring yourself and a pencil. prof will post summary of all topics. will try to release practice exam soon.\n",
    "\n",
    "Today is lecture 16 on Information Design and Bayesian persuasion. Bayesian Persuasion is a subset of information design which is a subdispline of information theory/game theory.\n",
    "\n",
    "For Bayesian Persuasion, \n",
    "\n",
    "REVIEW: write down what a strategy is. strategies defined in dynamic games of incomplete information. most people get \"to use the word strategy to represent a complete contingent plan\" wrong. A strategy specifies every single action (even in unrealized scenarios).\n",
    "Also remember: equilibrium requires you to check optimal responses, not to prove anything. \n",
    "\n",
    "Efficiency, Fairness, and mechanism design. \n",
    "\n",
    "* Pareto Efficiency deals with 'collective choice problems'. \n",
    "<b>Pie example for Pareto Efficiency. As long as you use up the whole pie, you've reached pareto efficiency.</b>\n",
    "\n",
    "Versions of Fairness\n",
    "* \"Utilitarian Solution\": Jeremy Bentham argues the fair solution is the one that makes the total happiness of everyone the highest. Give the entire pie to the person who values it the most. $ x_1 = 1, x_2 = 0$\n",
    "* \"Max-min fairness\": John Rawls argues to maximize the happiness of the least happy person. Give person with less value for the pie more pie such that both people are equally happy. $ x_1 = \\frac{b}{a+b}, x_2 = \\frac{a}{a+b} \\rightarrow a*x_1 = b*x_2 $\n"
   ]
  }
 ],
 "metadata": {
  "kernelspec": {
   "display_name": "Python 3.11.2 64-bit",
   "language": "python",
   "name": "python3"
  },
  "language_info": {
   "name": "python",
   "version": "3.11.2"
  },
  "orig_nbformat": 4,
  "vscode": {
   "interpreter": {
    "hash": "aee8b7b246df8f9039afb4144a1f6fd8d2ca17a180786b69acc140d282b71a49"
   }
  }
 },
 "nbformat": 4,
 "nbformat_minor": 2
}
