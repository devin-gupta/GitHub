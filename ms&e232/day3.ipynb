{
 "cells": [
  {
   "cell_type": "markdown",
   "metadata": {},
   "source": [
    "Dominant Strategies\n",
    "- strategy a is weakly dominant if\n",
    "- s = [s1, s2, ...] basically the vector of s that represents the chosen strategies of every player\n",
    "- s -i = behavior of all other players than i. \n",
    "- strict dominance --> b is always better than a, no matter what other players do. \n",
    "\n",
    "Dominant Strategy\n",
    "- strategy b is weakly dominant if it weakly dominates every other strategy a in the strategy space. \n",
    "- strategy b is strictly dominant if it strictly dominates every other strategy a in the strategy space. \n",
    "- in prisoner's dilemma, strategy b is a strict dominant strategy.\n",
    "\n",
    "Second Price Auction Theory (Vickery Auction)\n",
    "- N bidders, each bidder i has value vi for item.\n",
    "- if your bid wins, payoff is vi - S(i-1). if you lose, payoff is 0. \n",
    "- went through modeling and proving \"strategy dominant to bid value\". didn't consider tie breaking scenarios. \n",
    "\n",
    "terms: auction theory, market design, mechnanism design, inverse game theory\n",
    "\n",
    "Questions: \n",
    "- what is time complexity of evaluating player a choosing any real, and player b choosing any real?\n",
    "\n",
    "Game: pick a number between 0-100. person closest to 2/3 of the average number wins. "
   ]
  },
  {
   "cell_type": "code",
   "execution_count": 11,
   "metadata": {},
   "outputs": [
    {
     "name": "stdout",
     "output_type": "stream",
     "text": [
      "# of players: 15\n",
      "average guess is: 27.066666666666666\n",
      "two thirds of average is: 18.044444444444444\n"
     ]
    }
   ],
   "source": [
    "j = 0\n",
    "\n",
    "strategies = [41, 0, 22, 18, 20, 38, 12, 13, 22, 27, 15, 30, 27, 78, 43]\n",
    "\n",
    "for i in strategies: \n",
    "    j = j + i\n",
    "\n",
    "average = j/len(strategies)\n",
    "two_thirds = (2/3)*average\n",
    "\n",
    "print(\"# of players\", len(strategies), sep=\": \")\n",
    "print(\"average guess is\", average, sep=\": \")\n",
    "print(\"two thirds of average is\", two_thirds, sep=\": \")"
   ]
  },
  {
   "cell_type": "code",
   "execution_count": 9,
   "metadata": {},
   "outputs": [
    {
     "name": "stdout",
     "output_type": "stream",
     "text": [
      "50.0\n",
      "33.33333333333333\n",
      "22.22222222222222\n",
      "14.814814814814811\n",
      "9.87654320987654\n"
     ]
    }
   ],
   "source": [
    "initial = 50\n",
    "def exponential(n): \n",
    "    solution = (initial)*(2/3)**n\n",
    "    print(solution)\n",
    "\n",
    "for r in range(0,5):\n",
    "    exponential(r)"
   ]
  },
  {
   "cell_type": "markdown",
   "metadata": {},
   "source": [
    "IESDS method \"Iterated Elimination\". \n",
    "we can find \"dominance solvable games\" by iterating through - if the other player is rational then... arguments"
   ]
  }
 ],
 "metadata": {
  "kernelspec": {
   "display_name": "Python 3.11.2 64-bit",
   "language": "python",
   "name": "python3"
  },
  "language_info": {
   "codemirror_mode": {
    "name": "ipython",
    "version": 3
   },
   "file_extension": ".py",
   "mimetype": "text/x-python",
   "name": "python",
   "nbconvert_exporter": "python",
   "pygments_lexer": "ipython3",
   "version": "3.11.2"
  },
  "orig_nbformat": 4,
  "vscode": {
   "interpreter": {
    "hash": "aee8b7b246df8f9039afb4144a1f6fd8d2ca17a180786b69acc140d282b71a49"
   }
  }
 },
 "nbformat": 4,
 "nbformat_minor": 2
}
