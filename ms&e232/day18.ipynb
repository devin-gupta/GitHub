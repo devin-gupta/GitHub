{
 "cells": [
  {
   "cell_type": "markdown",
   "metadata": {},
   "source": [
    "### Day 18\n",
    "#### 6/1 Ramesh Johari's Introduction to Game Theory\n",
    "\n",
    "Discussion on Bank Runs: \n",
    "Setup a game where each person can withdraw in 2 periods after their deposit time. Based on simple modeling, we can find that bank runs are fundamentally a nash equilibria. This is because our beliefs on what other people's strategy is defines what our strategy is and hence most people have a dynamic learning process.\n",
    "\n",
    "Here we played the red-blue marble signaling game. Each person has public knowledge of the history of the signals, and private knowledge of their pull from the bag.\n",
    "\n",
    "Probability detour: If we use bayes rule, the posterior probability given what you drew in either case gives you the probability we are in the right state.  \n",
    "\n",
    "Relevant to Information Cascades, herding, \"group-think\", wisdom of the crowd.\n",
    "\n",
    "(when you follow the herd, you exert a negative informational externality on other players)"
   ]
  }
 ],
 "metadata": {
  "kernelspec": {
   "display_name": "Python 3.11.2 64-bit",
   "language": "python",
   "name": "python3"
  },
  "language_info": {
   "name": "python",
   "version": "3.11.2"
  },
  "orig_nbformat": 4,
  "vscode": {
   "interpreter": {
    "hash": "aee8b7b246df8f9039afb4144a1f6fd8d2ca17a180786b69acc140d282b71a49"
   }
  }
 },
 "nbformat": 4,
 "nbformat_minor": 2
}
