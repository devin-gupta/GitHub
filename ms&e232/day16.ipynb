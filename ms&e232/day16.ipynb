{
 "cells": [
  {
   "cell_type": "markdown",
   "metadata": {},
   "source": [
    "### Day 16\n",
    "#### 5/25 Ramesh Johari's Introduction to Game Theory\n",
    "\n",
    "Next Problem set: can go to thursday office hours in person to avoid doing question 1 on poker games. \n",
    "\n",
    "Revisiting eBay v. Amazon Auction: \n",
    "* Bidder incentives to snipe: BR to certain types of competition, if all bidders bid late it lowers final price against seller 'tacit collusion', common value effects (information hiding). \n",
    "* Ockenfels and Roth (authors) - antiques and computers on amazon versus eBay with 120 auctons in each set. two information - when did they bid and what was the bidder's feedback number (proxy for expertise)? \n",
    "* Observations: Antiques have more information hiding than computers, likely common value effect for antiques v computers. \n",
    "\n",
    "<b>Takeaway: Rules matter! While \"timing the end of an auction\" may seem inconsequential, but really matter.</b>\n",
    "\n",
    "Fundamentally in game theory (at least so far in this class), we aren't answering how we are going to get to equilibrium. We are simply asking if people will deviate from an existing equilibrium.  \n",
    "\n",
    "Axioms required for stability: history of the game is common knowledge, rationality, and structure of the game is common knowledge. \n",
    "\n",
    "<i>Intersting Question: learn more about replicator game theory in genetics. how might we apply this to social darwinism?</i>"
   ]
  }
 ],
 "metadata": {
  "kernelspec": {
   "display_name": "Python 3.11.2 64-bit",
   "language": "python",
   "name": "python3"
  },
  "language_info": {
   "name": "python",
   "version": "3.11.2"
  },
  "orig_nbformat": 4,
  "vscode": {
   "interpreter": {
    "hash": "aee8b7b246df8f9039afb4144a1f6fd8d2ca17a180786b69acc140d282b71a49"
   }
  }
 },
 "nbformat": 4,
 "nbformat_minor": 2
}
