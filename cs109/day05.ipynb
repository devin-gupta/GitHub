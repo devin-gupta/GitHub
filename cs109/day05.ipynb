{
 "cells": [
  {
   "cell_type": "markdown",
   "metadata": {},
   "source": [
    "### Day 5\n",
    "#### 8/5 CS 109 Independence\n",
    "\n",
    "https://web.stanford.edu/class/archive/cs/cs109/cs109.1238/lectures/5-Independence/5-Independence.pdf\n",
    "\n",
    "1. Mutual Exclusivity\n",
    "    * $ P(E \\cup F)  = P(E) + P(F) - P(EF) $\n",
    "    * With three events, \n",
    "        * $ P(E \\cup F \\cup G) = P(E) + P(F) + P(G) - P(EF) - P(FG) - P(EG) + P(EFG) $\n",
    "    * For more than three events, there is a general inclusion/exclusion formula. find in link.\n",
    "2. If AND: \n",
    "    1. If independent events, then multiply.\n",
    "        * Independent events are: knowing about event B's status doesn't effect our probability of A happening. \n",
    "    2. Otherwise use chain rule. \n",
    "        * $ P(A,B) = P(A) * P(B | A) $\n",
    "\n",
    "* Independent events are not the same as mutually exclusive events. \n",
    "* Independence is reciprocal. If A is independent of B, B must be independent of A. \n",
    "\n",
    "Generalizing Independence\n",
    "* We can consider network reliability questions where we must consider the probability of a path between two servers existing given $n$ routers. \n",
    "* Some other complicated hash table problem...\n",
    "\n",
    "    "
   ]
  },
  {
   "cell_type": "code",
   "execution_count": null,
   "metadata": {},
   "outputs": [],
   "source": []
  }
 ],
 "metadata": {
  "language_info": {
   "name": "python"
  },
  "orig_nbformat": 4
 },
 "nbformat": 4,
 "nbformat_minor": 2
}
