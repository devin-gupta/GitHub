{
 "cells": [
  {
   "cell_type": "markdown",
   "metadata": {},
   "source": [
    "### Day 2\n",
    "#### 8/4 CS 109 Combinatorics\n",
    "\n",
    "1. Important Counting principles \n",
    "    1. step rule of counting: two indepdenent events, the total # of possibilities is # of outcomes in a * # of outcomes in b\n",
    "    2. inclusion exclusion counting : using a venn diagram\n",
    "2. Combinatorics is \n",
    "    1. Permutations - # of unique orderings is always n!\n",
    "        1. Distinct: always $ n! $. if ordering 10 elements in 6 spots, we have $\\frac{10!}{(10-6)!}$\n",
    "        2. Semi-Distinct: orderings of permutations / orderings of indistinct objects\n",
    "    2. Combinations\n",
    "        1. Distinct: include $n$ distinct objects, take $k$ of them, divide by orderings of indistinct objects \"overcounted\". $\\frac{n!}{k!(n-k)!}$\n",
    "    3. Bucketing\n",
    "        1. Distinct\n",
    "            - Hashtables: put $n$ distinct objects into $r$ buckets, $r^n$\n",
    "        2. Indistinct\n",
    "            - $n$ objects and $(r-1)$ dividers, $n+r-1 \\choose r-1 $ $ =  \\frac{(n+r-1)!}{n!(r-1)!}$\n",
    "            - how many integer solutions are there to $x_1 + x_2 + ... + x_r = n $ if $ 0 \\le x_i \\le n $ ?\n"
   ]
  },
  {
   "cell_type": "code",
   "execution_count": 1,
   "metadata": {},
   "outputs": [],
   "source": [
    "import itertools\n",
    "import math\n",
    "\n",
    "def main():\n",
    "      total = math.comb(52, 5)\n",
    "      print(total)\n",
    "\n",
    "def main(): \n",
    "    cards = make_deck()\n",
    "    all_hands = itertools.combinations(cards, 5)\n",
    "    for hand in all_hands:\n",
    "            print(hand)\n"
   ]
  },
  {
   "cell_type": "code",
   "execution_count": 5,
   "metadata": {},
   "outputs": [
    {
     "name": "stdout",
     "output_type": "stream",
     "text": [
      "obba\n",
      "babo\n",
      "abob\n",
      "boab\n",
      "bboa\n",
      "oabb\n",
      "bbao\n",
      "obab\n",
      "abbo\n",
      "aobb\n",
      "boba\n",
      "baob\n",
      "12.0\n"
     ]
    }
   ],
   "source": [
    "import itertools\n",
    "\n",
    "def main1():\n",
    "    letters = ['b','o','b','a']\n",
    "    perms = set(itertools.permutations(letters))\n",
    "    for perm in perms:\n",
    "        pretty_perm = \"\".join(perm)\n",
    "        print(pretty_perm)\n",
    "\n",
    "import math\n",
    "\n",
    "def main2():\n",
    "    n = math.factorial(4)\n",
    "    d = math.factorial(2)\n",
    "    print(n / d)\n",
    "\n",
    "main1()\n",
    "main2()"
   ]
  }
 ],
 "metadata": {
  "kernelspec": {
   "display_name": "Python 3",
   "language": "python",
   "name": "python3"
  },
  "language_info": {
   "codemirror_mode": {
    "name": "ipython",
    "version": 3
   },
   "file_extension": ".py",
   "mimetype": "text/x-python",
   "name": "python",
   "nbconvert_exporter": "python",
   "pygments_lexer": "ipython3",
   "version": "3.11.4"
  },
  "orig_nbformat": 4
 },
 "nbformat": 4,
 "nbformat_minor": 2
}
