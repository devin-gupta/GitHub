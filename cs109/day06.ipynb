{
 "cells": [
  {
   "cell_type": "markdown",
   "metadata": {},
   "source": [
    "### Day 6\n",
    "#### 8/6 CS 109 Random Variables\n",
    "\n",
    "https://web.stanford.edu/class/archive/cs/cs109/cs109.1238/lectures/6-RandomVariables/6-RandomVariables.pdf\n",
    "\n",
    "1. Conditional Paradigm\n",
    "    * For any events, you can condition consistenally on event E, and all formulas hold. \n",
    "    1. Conditional Independence\n",
    "        * Events A & B are independent given E. $$ P(AB | E) = P(A|E) * P(B|E) $$\n",
    "    2. Conditional Dependence\n",
    "        * Even if E and F are independent, E and F can be dependent given G. \n",
    "2. For a Netflix reccomendation engine:\n",
    "    1. , we consider the probability a user watches $E_4$ given they watched $E_1, E_2, E_3 $. So we need to know if the probability is independent of the other movies. $$ P(E_4 | E_1, E_2, E_3) = \\frac{P(E_1 E_2 E_3 E_4)}{P(E_1 E_2 E_3)} $$\n",
    "    2. There are 30k titles on netflix, a user has watched 30 movies, event E is the event where the user watches the given four. \n",
    "    P(E) = \\frac{ (4 \\choose 4) * (12966 \\choose 26)}{13000 \\choose 30} = 10e-11\n",
    "3. Random Variables\n",
    "    * def: a function that maps outcomes to numbers.\n",
    "    * Difference betweeen discrete and continous random variables\n",
    "    * We can calculate the probability a random variable takes on a particular value - $ P(X = 0) $\n",
    "    1. Probability mass function: inputs a value and outputs the probability. shorthand: $p(x)$ or $p_X(x)$\n",
    "    2. Expected Value (same as mean, expectation, weighted average, center of mass, 1st moment)\n",
    "\n",
    "- Linearity: $ E[aX + b] = aE[X] + b $\n",
    "- Expectation of a sum is sum of expectations: $ E[X + Y] = E[X] + E[Y] $"
   ]
  },
  {
   "cell_type": "markdown",
   "metadata": {},
   "source": []
  }
 ],
 "metadata": {
  "language_info": {
   "name": "python"
  },
  "orig_nbformat": 4
 },
 "nbformat": 4,
 "nbformat_minor": 2
}
