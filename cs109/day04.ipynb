{
 "cells": [
  {
   "cell_type": "markdown",
   "metadata": {},
   "source": [
    "### Day 4\n",
    "#### 8/4 CS 109 Conditional Probability and Bayes\n",
    "\n",
    "https://web.stanford.edu/class/archive/cs/cs109/cs109.1238/lectures/4-ConditioningAndBayes/4-ConditioningAndBayes.pdf\n",
    "\n",
    "How many unique card shuffles are there? $ 52! $\n",
    "\n",
    "<b> Conditional Probability </b>\n",
    "\n",
    "1. $ P(E | F) $. The shorthand for set notation is $ \\frac{|EF|}{|SF|} = \\frac{|EF|}{|F|} $\n",
    "2. Chain Rule (aka product rule): $ P(EF) = P(E) * P(F | E) = P(F) * P(E|F) $\n",
    "Note: Direction of conditioning matters\n",
    "\n",
    "In Netflix, what is the probability a given user will watch a movie. \n",
    "$ P(E) = \\lim_{n \\to \\infty} \\frac{n(E)}{n} ~ \\frac{ people who watched movie }{people on netflix}$ \n",
    "\n",
    "Notation Key: \n",
    "- AND = $ P(E and F) = P(E,F) = P(EF) = P(E \\cap F) $\n",
    "- OR = $ P(E or F) = P(E \\cup F) $\n",
    "- GIVEN = $ P(E | F) = P(E | F,G) $\n",
    "\n",
    "Generalized Chain Rule: \n",
    "- $ Pr(E_1 and E_2 ... E_n) = Pr(E_1) * Pr(E_2 | E_1) * ... * Pr(E_n | E_1, E_2...) $\n",
    "\n",
    "Law of total possibility:\n",
    "- $ P(E) = P(E|F) * P(F) + P(E|F^c) * P(F^c) $\n",
    "\n",
    "<b> Bayes Thereom</b>\n",
    "\n",
    "$ P(F|E) = \\frac{P(E|F)*P(F)}{P(E)} $\n",
    "\n",
    "1. Converting to normal language: probability of the posterior is the likelihood * the prior over the normalization constant."
   ]
  },
  {
   "cell_type": "code",
   "execution_count": null,
   "metadata": {},
   "outputs": [],
   "source": []
  }
 ],
 "metadata": {
  "language_info": {
   "name": "python"
  },
  "orig_nbformat": 4
 },
 "nbformat": 4,
 "nbformat_minor": 2
}
