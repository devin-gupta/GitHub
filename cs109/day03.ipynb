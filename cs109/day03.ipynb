{
 "cells": [
  {
   "cell_type": "markdown",
   "metadata": {},
   "source": [
    "### Day 3\n",
    "#### 8/4 CS 109 Probability\n",
    "\n",
    "<i> Sample Space </i>: S, the set of all outcomes of an experiment\n",
    " - Coin Flip: S = {H, T}\n",
    " - Two Coins: S = {(H,H), (H,T), (T,H), (T,T)}\n",
    " - Six sided die = {1,2,3,4,5,6}\n",
    "\n",
    "<i> Event Space </i>: S, some subset of the sample space\n",
    "\n",
    "Pr($E$) is our belief that event E occurs. \n",
    "\n",
    "Axioms of probability: \n",
    "1. $ 0 \\leq Pr(E) \\leq 1 $\n",
    "2. $ P(S) = 1 $\n",
    "3. If E and F are mututally exclusive: $ P(E \\cup F) = P(E) + P(F) $\n",
    "\n",
    "Probability is actually  $ P(E) =  \\lim_{n \\to \\infty} \\frac{n(E)}{n} $\n",
    "\n",
    "For equally likely outcomes, $ P(E) = \\frac{|E|}{|S|} $\n",
    "\n",
    "- Imagine we're rolling two dice. We have 3 ways to model the problem. 1 - the die are distinct. 2 - the die are indistinct. 3 - the die are indistinct, but we care about the sum. These last two ways don't work. \n",
    "\n",
    "- When approaching an \"equally likely probability\" problem, start by defining the sample spaces and event spaces.\n",
    "\n",
    "- Serendipity: if population of Stanford is 17k people, if you're friends with 80 people and there are 62 random people in a room. \n",
    "P(see someone you know) = 1 - P(see no one you know) = 1 - P(E^C) = 1 - $\\frac{|E^C|}{|S|} = 0.1914$\n",
    "\n",
    "- Mutually exclusive events = $ P( E \\cup F) = P(E) + P(F) $ or 'or'\n"
   ]
  },
  {
   "cell_type": "code",
   "execution_count": null,
   "metadata": {},
   "outputs": [],
   "source": []
  }
 ],
 "metadata": {
  "language_info": {
   "name": "python"
  },
  "orig_nbformat": 4
 },
 "nbformat": 4,
 "nbformat_minor": 2
}
