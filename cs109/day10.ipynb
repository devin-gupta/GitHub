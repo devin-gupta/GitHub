{
 "cells": [
  {
   "cell_type": "markdown",
   "metadata": {},
   "source": [
    "### Day 10\n",
    "#### 8/15 CS 109 Gaussian Distributions\n",
    "\n",
    "https://web.stanford.edu/class/archive/cs/cs109/cs109.1238/lectures/10-Gaussian/10-Gaussian.pdf\n",
    "\n",
    "Pretty cool topic of bloom filters. \n",
    "\n",
    "Cumalative density functions are integrals of normal density functions. Represents the probability of a random variable being less than or equal to a certain value.\n",
    "\n",
    "If PDF = $ f(x) = \\lambda e^{- \\lambda x} $, then CDF is $ F(x) = \\int_{1}^{\\infty} f(x) dx = 1 - e^{- \\lambda x} $.\n",
    "\n",
    "* CDF is cumalative. Because it is the integral of the PDF, F(2) - F(1) is the prob of result between 1 and 2.\n",
    "\n",
    "So far we have no way of controlling mean and variance independently. Enter normal random variables. Gives a PDF with specified mean and variance.\n",
    "\n",
    "$$ f(x) = \\frac{1}{\\sqrt{2 \\pi \\sigma^2}} e^{- \\frac{(x - \\mu)^2}{2 \\sigma^2}} $$\n",
    "\n",
    "There's also something called a Phi transform? They used to have a Phi table to calculate probabilities of things. Now we have computers."
   ]
  },
  {
   "cell_type": "code",
   "execution_count": 2,
   "metadata": {},
   "outputs": [
    {
     "name": "stdout",
     "output_type": "stream",
     "text": [
      "0.15865525393145707\n"
     ]
    }
   ],
   "source": [
    "import scipy.stats as stats\n",
    "\n",
    "print(stats.norm.cdf(9, 10, 1))"
   ]
  },
  {
   "cell_type": "markdown",
   "metadata": {},
   "source": [
    "important to know that the normal distribution approximates binomial distribution when n is large. \n",
    "we can consider problems where event is binary (like change or doesn't like change) and we can use binomial to calculate probability of fluke."
   ]
  }
 ],
 "metadata": {
  "kernelspec": {
   "display_name": "Python 3",
   "language": "python",
   "name": "python3"
  },
  "language_info": {
   "codemirror_mode": {
    "name": "ipython",
    "version": 3
   },
   "file_extension": ".py",
   "mimetype": "text/x-python",
   "name": "python",
   "nbconvert_exporter": "python",
   "pygments_lexer": "ipython3",
   "version": "3.11.4"
  },
  "orig_nbformat": 4
 },
 "nbformat": 4,
 "nbformat_minor": 2
}
