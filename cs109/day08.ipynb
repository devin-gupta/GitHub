{
 "cells": [
  {
   "cell_type": "markdown",
   "metadata": {},
   "source": [
    "### Day 8\n",
    "#### 8/12 CS 109 Poisson Distribution\n",
    "\n",
    "https://web.stanford.edu/class/archive/cs/cs109/cs109.1238/lectures/8-Poisson/8-Poisson.pdf\n",
    "\n",
    "For discrete variables, there are a bunch of random variable models: bernoulli, binomial, poisson, geometric, negative binomial.\n",
    "For each there are the following main properties: parameters, pmf, expectation, variance and example.\n",
    "\n",
    "Natural Exponent: $ \\lim_{ n \\to \\infty} {(1-\\frac{\\lambda}{n})}^n= e^{-\\lambda}$\n",
    "\n",
    "* Basically to derive the poisson, we take the binomial distribution for each individual event and create a continous spectrum of time for the events to occur within which gives us the poisson.\n",
    "* Probability of $k$ events in a fixed time interval is given by the poisson distribution:\n",
    "$$ P(X=k) = \\frac{\\lambda^k e^{-\\lambda}}{k!} $$\n",
    "Question: if there are an average of 2.79 earthquakes a year, what is the probability of 3 next year. Answer: $P(X=3) = \\frac{2.79^3 e^{-2.79}}{3!} = 0.231$\n",
    "* A poisson appraoches a binomial as $ n \\to \\infty$ and $p \\to 0$ such that $np = \\lambda$.\n",
    "\n",
    "It is still valid to apply a poisson when:\n",
    "1. \"Successes\" in trials aren't entirely independent. \n",
    "2. Or probability of success is not exactly the same for all trials."
   ]
  },
  {
   "cell_type": "code",
   "execution_count": 1,
   "metadata": {},
   "outputs": [
    {
     "name": "stdout",
     "output_type": "stream",
     "text": [
      "0.25651562069968376\n"
     ]
    }
   ],
   "source": [
    "from scipy import stats\n",
    "\n",
    "X = stats.poisson(2.5)\n",
    "print(X.pmf(2))"
   ]
  },
  {
   "cell_type": "markdown",
   "metadata": {},
   "source": [
    "There are also geometric random variables. They count number of independent trials until first success (like numbers of hands dealt until aces). \n",
    "\n",
    "Prob(Aces) = 4/52 * 3/51 = 1/221"
   ]
  },
  {
   "cell_type": "code",
   "execution_count": 2,
   "metadata": {},
   "outputs": [
    {
     "name": "stdout",
     "output_type": "stream",
     "text": [
      "12\n"
     ]
    }
   ],
   "source": [
    "X = stats.geom.rvs(p=(1/221))\n",
    "print(X)"
   ]
  },
  {
   "cell_type": "markdown",
   "metadata": {},
   "source": [
    "Then a negative random variable dictates - number of turns until some event shows up $r$ times. \n",
    "$ E[X] = \\frac{r}{p} $ and\n",
    "$ Var[X] = \\frac{r(1-p)}{p^2} $"
   ]
  },
  {
   "cell_type": "markdown",
   "metadata": {},
   "source": []
  }
 ],
 "metadata": {
  "kernelspec": {
   "display_name": "Python 3",
   "language": "python",
   "name": "python3"
  },
  "language_info": {
   "codemirror_mode": {
    "name": "ipython",
    "version": 3
   },
   "file_extension": ".py",
   "mimetype": "text/x-python",
   "name": "python",
   "nbconvert_exporter": "python",
   "pygments_lexer": "ipython3",
   "version": "3.11.4"
  },
  "orig_nbformat": 4
 },
 "nbformat": 4,
 "nbformat_minor": 2
}
