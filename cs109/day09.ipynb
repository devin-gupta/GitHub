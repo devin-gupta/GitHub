{
 "cells": [
  {
   "cell_type": "markdown",
   "metadata": {},
   "source": [
    "### Day 9\n",
    "#### 8/12 CS 109 Continous Distributions\n",
    "\n",
    "https://web.stanford.edu/class/archive/cs/cs109/cs109.1238/lectures/9-Continuous/9-Continuous.pdf\n",
    "\n",
    "Probability Density Function (PDF) - continuous analog of PMF. We can integrate across PDF to get probability of an interval.\n",
    "\n",
    "Uniform Random Variable is equally likely to be any value in an interval. \n",
    "\n",
    "There are more examples including the exponential probability function. Each seems like a repeat of the last. Must revisit learning the examples of each. Big difference between how long until an event, prob of event in fixed time interval and third thing I'm unsure about."
   ]
  }
 ],
 "metadata": {
  "language_info": {
   "name": "python"
  },
  "orig_nbformat": 4
 },
 "nbformat": 4,
 "nbformat_minor": 2
}
