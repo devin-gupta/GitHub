{
 "cells": [
  {
   "cell_type": "markdown",
   "metadata": {},
   "source": [
    "## Building Social Networks from Swipe Data\n",
    "\n",
    "### Project: \n",
    "\n",
    "Our goal is to take the swipe data from a university meal system and collect the \"predicted social network\" from this data, based on the assumption that generally, friends eat dinner with each other, and hence swipe at similar times. \n",
    "\n",
    "### Assumptions: \n",
    "1. We first assume that we recieve a csv file with the parameters of 'Time Swiped' and 'Name'. \n",
    "\n",
    "### Importing necessary libraries and define changeable parameters:"
   ]
  },
  {
   "cell_type": "code",
   "execution_count": 13,
   "metadata": {},
   "outputs": [],
   "source": [
    "import networkx as nx\n",
    "import matplotlib\n",
    "from matplotlib.pyplot import figure\n",
    "import pandas as pd"
   ]
  },
  {
   "cell_type": "code",
   "execution_count": 14,
   "metadata": {},
   "outputs": [],
   "source": [
    "epsilon = 5"
   ]
  },
  {
   "cell_type": "markdown",
   "metadata": {},
   "source": [
    "### Importing CSV and processing dataframe:\n",
    "\n",
    "Here we need to take the general timeswipe data to create an friendship matrix. We first must take the timeswipe data and find those pairs that satisfy a difference in swipe time less than (base_swipe_time). We then take each of these pairs and create a friendship matrix. In the friendship matrix, we list each edge of friendship between two people within our social network."
   ]
  },
  {
   "cell_type": "code",
   "execution_count": 34,
   "metadata": {},
   "outputs": [
    {
     "name": "stdout",
     "output_type": "stream",
     "text": [
      "  Subject  Friend\n",
      "0   alice     bob\n",
      "1   alice   floyd\n",
      "2   floyd     bob\n",
      "3    carl     NaN\n",
      "4  duggan  ingrid\n",
      "5  george    jack\n",
      "6   klien  george\n",
      "7  george   klien\n",
      "8    eric   henry\n",
      "\n",
      "\n",
      "    time    name\n",
      "0     10   alice\n",
      "1     12     bob\n",
      "2     40    carl\n",
      "3    256  duggan\n",
      "4     38    eric\n",
      "5     15   floyd\n",
      "6    108  george\n",
      "7     43   henry\n",
      "8    254  ingrid\n",
      "9    110    jack\n",
      "10   113   klien\n"
     ]
    }
   ],
   "source": [
    "edges = pd.read_csv('edges.csv')\n",
    "print(edges)\n",
    "\n",
    "print(\"\\n\")\n",
    "\n",
    "time_series = pd.read_csv('time_series.csv')\n",
    "print(time_series)"
   ]
  },
  {
   "cell_type": "code",
   "execution_count": null,
   "metadata": {},
   "outputs": [],
   "source": [
    "# time_series = time_series.drop(labels=0, axis=0)\n",
    "print(time_series)\n",
    "\n",
    "print(time_series.iloc[2,0])"
   ]
  },
  {
   "cell_type": "code",
   "execution_count": 35,
   "metadata": {},
   "outputs": [
    {
     "name": "stdout",
     "output_type": "stream",
     "text": [
      "['alice', 'bob', 'carl', 'duggan', 'eric', 'floyd', 'george', 'henry', 'ingrid', 'jack', 'klien']\n",
      "\n",
      "\n",
      "[10, 12, 40, 256, 38, 15, 108, 43, 254, 110, 113]\n"
     ]
    }
   ],
   "source": [
    "names = time_series[time_series.columns[1]].values.tolist()\n",
    "print(names)\n",
    "\n",
    "print(\"\\n\")\n",
    "\n",
    "times = time_series[time_series.columns[0]].values.tolist()\n",
    "print(times)\n"
   ]
  },
  {
   "cell_type": "markdown",
   "metadata": {},
   "source": [
    "### Creating an \"Epsilon Function\":\n",
    "\n",
    "We want to define a \"friend\" as someone who had a time stamp within some \"epsilon\" of your time. Ex. If alice swipe at 10 seconds and bob, her friend, swipes 2 seconds later, they are probably friends because they swiped within (epsilon) seconds of each other. I've defined the epsilon to be 5 seconds above, hence the difference of alice and bob's time is 2 seconds, so they are friends. \n",
    "\n",
    "We'll define a function that takes the input of the index of name and returns true or false as to whether they are friends or not. "
   ]
  },
  {
   "cell_type": "code",
   "execution_count": 36,
   "metadata": {},
   "outputs": [
    {
     "name": "stdout",
     "output_type": "stream",
     "text": [
      "True\n",
      "11\n"
     ]
    }
   ],
   "source": [
    "def epsilon_validator(x, y):\n",
    "    if abs(time_series.iloc[x,0] - time_series.iloc[y,0]) <= epsilon: \n",
    "        return True\n",
    "    else : \n",
    "        return False\n",
    "\n",
    "print(epsilon_validator(0,5))\n",
    "print(len(names))"
   ]
  },
  {
   "cell_type": "code",
   "execution_count": 33,
   "metadata": {},
   "outputs": [
    {
     "name": "stdout",
     "output_type": "stream",
     "text": [
      "alice + alice = True\n",
      "alice + bob = True\n",
      "alice + carl = False\n",
      "alice + duggan = False\n",
      "alice + eric = False\n",
      "alice + floyd = False\n",
      "alice + george = False\n",
      "alice + henry = False\n",
      "alice + ingrid = False\n",
      "alice + jack = False\n",
      "alice + klien = False\n",
      "bob + alice = True\n",
      "bob + bob = True\n",
      "bob + carl = False\n",
      "bob + duggan = False\n",
      "bob + eric = False\n",
      "bob + floyd = True\n",
      "bob + george = False\n",
      "bob + henry = False\n",
      "bob + ingrid = False\n",
      "bob + jack = False\n",
      "bob + klien = False\n",
      "carl + alice = False\n",
      "carl + bob = False\n",
      "carl + carl = True\n",
      "carl + duggan = False\n",
      "carl + eric = True\n",
      "carl + floyd = False\n",
      "carl + george = False\n",
      "carl + henry = True\n",
      "carl + ingrid = False\n",
      "carl + jack = False\n",
      "carl + klien = False\n",
      "duggan + alice = False\n",
      "duggan + bob = False\n",
      "duggan + carl = False\n",
      "duggan + duggan = True\n",
      "duggan + eric = False\n",
      "duggan + floyd = False\n",
      "duggan + george = False\n",
      "duggan + henry = False\n",
      "duggan + ingrid = True\n",
      "duggan + jack = False\n",
      "duggan + klien = False\n",
      "eric + alice = False\n",
      "eric + bob = False\n",
      "eric + carl = True\n",
      "eric + duggan = False\n",
      "eric + eric = True\n",
      "eric + floyd = False\n",
      "eric + george = False\n",
      "eric + henry = False\n",
      "eric + ingrid = False\n",
      "eric + jack = False\n",
      "eric + klien = False\n",
      "floyd + alice = False\n",
      "floyd + bob = True\n",
      "floyd + carl = False\n",
      "floyd + duggan = False\n",
      "floyd + eric = False\n",
      "floyd + floyd = True\n",
      "floyd + george = False\n",
      "floyd + henry = False\n",
      "floyd + ingrid = False\n",
      "floyd + jack = False\n",
      "floyd + klien = False\n",
      "george + alice = False\n",
      "george + bob = False\n",
      "george + carl = False\n",
      "george + duggan = False\n",
      "george + eric = False\n",
      "george + floyd = False\n",
      "george + george = True\n",
      "george + henry = False\n",
      "george + ingrid = False\n",
      "george + jack = True\n",
      "george + klien = False\n",
      "henry + alice = False\n",
      "henry + bob = False\n",
      "henry + carl = True\n",
      "henry + duggan = False\n",
      "henry + eric = False\n",
      "henry + floyd = False\n",
      "henry + george = False\n",
      "henry + henry = True\n",
      "henry + ingrid = False\n",
      "henry + jack = False\n",
      "henry + klien = False\n",
      "ingrid + alice = False\n",
      "ingrid + bob = False\n",
      "ingrid + carl = False\n",
      "ingrid + duggan = True\n",
      "ingrid + eric = False\n",
      "ingrid + floyd = False\n",
      "ingrid + george = False\n",
      "ingrid + henry = False\n",
      "ingrid + ingrid = True\n",
      "ingrid + jack = False\n",
      "ingrid + klien = False\n",
      "jack + alice = False\n",
      "jack + bob = False\n",
      "jack + carl = False\n",
      "jack + duggan = False\n",
      "jack + eric = False\n",
      "jack + floyd = False\n",
      "jack + george = True\n",
      "jack + henry = False\n",
      "jack + ingrid = False\n",
      "jack + jack = True\n",
      "jack + klien = True\n",
      "klien + alice = False\n",
      "klien + bob = False\n",
      "klien + carl = False\n",
      "klien + duggan = False\n",
      "klien + eric = False\n",
      "klien + floyd = False\n",
      "klien + george = False\n",
      "klien + henry = False\n",
      "klien + ingrid = False\n",
      "klien + jack = True\n",
      "klien + klien = True\n"
     ]
    }
   ],
   "source": [
    "for x in range(len(names)) :\n",
    "    for y in range(len(names)) :\n",
    "        print(names[x], \"+\", names[y], \"=\", epsilon_validator(x, y))\n",
    "\n",
    "# list_of_paired_times = [(times[p1], times[p2]) for p1 in range(len(times)) for p2 in range(p1+1,len(times))]\n",
    "# print(list_of_paired_times)\n",
    "\n",
    "# print(\"\\n\")\n",
    "\n",
    "# list_of_paired_names = [(names[p1], names[p2]) for p1 in range(len(names)) for p2 in range(p1+1,len(names))]\n",
    "# print(list_of_paired_names)"
   ]
  },
  {
   "cell_type": "markdown",
   "metadata": {},
   "source": [
    "### Create Graph Visualization\n",
    "\n",
    "Using the dataframe, we use the networkx library to draw a graph which contains the friendship pairs that we built earlier in the dataframe. The graph is then styled and can be used to visualize the social network within the university or corporate setting."
   ]
  },
  {
   "cell_type": "code",
   "execution_count": 3,
   "metadata": {},
   "outputs": [
    {
     "data": {
      "image/png": "[encoded data removed]",
      "text/plain": [
       "<Figure size 640x480 with 1 Axes>"
      ]
     },
     "metadata": {},
     "output_type": "display_data"
    }
   ],
   "source": [
    "G = nx.Graph()\n",
    "G = nx.from_pandas_edgelist(df, 'Subject', 'Friend')\n",
    "\n",
    "nx.draw(G, with_labels=True)"
   ]
  },
  {
   "cell_type": "markdown",
   "metadata": {},
   "source": [
    "### Relevant Uses and Further Work\n",
    "\n",
    "Beyond the fact that visualizing the social network around you is simply really cool, there are also relevant and important uses of social network visualization, allowing institutions to understand it's own dynamics at new levels of nuance. Some of the possible uses of this work are listed below.\n",
    "1. HR Employee Dissatisfaction: \n",
    "2. University mental health targeting: \n",
    "3. DEI Accountability: \n",
    "4. Targeted Marketing:  "
   ]
  }
 ],
 "metadata": {
  "kernelspec": {
   "display_name": "Python 3.11.2 64-bit",
   "language": "python",
   "name": "python3"
  },
  "language_info": {
   "codemirror_mode": {
    "name": "ipython",
    "version": 3
   },
   "file_extension": ".py",
   "mimetype": "text/x-python",
   "name": "python",
   "nbconvert_exporter": "python",
   "pygments_lexer": "ipython3",
   "version": "3.11.2"
  },
  "orig_nbformat": 4,
  "vscode": {
   "interpreter": {
    "hash": "aee8b7b246df8f9039afb4144a1f6fd8d2ca17a180786b69acc140d282b71a49"
   }
  }
 },
 "nbformat": 4,
 "nbformat_minor": 2
}
