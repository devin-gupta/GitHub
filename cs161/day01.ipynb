{
 "cells": [
  {
   "cell_type": "markdown",
   "metadata": {},
   "source": [
    "### Day 1\n",
    "#### 9/27 CS 161 Introduction\n",
    "\n",
    "Why is 161 important? \n",
    "- for operating systems, cryptography, compilers, networking, computational biology. possibly game theory is an algorithim solving prices. \n",
    "- course goals include designing and analyzing algorithims. \n",
    "\n",
    "Skills pyramid: \n",
    "1. Read/understand algorithim in pseudocode\n",
    "2. Analyze it using runtime and proofs\n",
    "3. apply algorithims to new contexts\n",
    "4. design your own algorithms\n",
    "5. effectively communicate your own algorithms. \n",
    "\n",
    "Sections aren't for homework help. Homework is posted monday @ 5pm, due tuesday at 8pm. \n",
    "No final exams, only weekly quizzes.\n",
    "\n",
    "##### Content: \n",
    "* Algorithms runtime is a measure of scaling, agnostic to operating software. called asymptotic analysis\n",
    "* Algorithimic toolkit\n",
    "    * Divide and conquer: if multiplying $ 1234 * 5678 = (12*56)*10000 + (34*56 + 12*56)*100 + (34*78)$\n",
    "\n",
    "\n",
    "Consider a method in which we multiply by breaking down each problem into n/2. This method has at minimum $n^2$ operations because we have n^2 one digit problems. On top of that, we recurse at a log n rate.\n",
    "\n",
    "$$ x * y = (a * 10^(n/2) + b) (c * 10^(n/2) + d) $$\n"
   ]
  },
  {
   "cell_type": "code",
   "execution_count": null,
   "metadata": {},
   "outputs": [],
   "source": []
  }
 ],
 "metadata": {
  "language_info": {
   "name": "python"
  },
  "orig_nbformat": 4
 },
 "nbformat": 4,
 "nbformat_minor": 2
}
