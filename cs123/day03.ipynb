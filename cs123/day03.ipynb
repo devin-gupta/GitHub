{
 "cells": [
  {
   "cell_type": "markdown",
   "metadata": {},
   "source": [
    "## Day 3, Inverse Kinematics\n",
    "\n",
    "Inverse kinematics asks the question - given some end effector positions, what is the likely position of our motor angles? \n",
    "\n",
    "#### Defining a Pose\n",
    "- Consider the problem where we are given the pose and position, $q$, and we ask what is the orientation and translation to the end effector? \n",
    "- Note that simplicity, we suggest that $ T_{0 \\rightarrow 1} R_0 = F_{01} $.\n",
    "$$ p(q) = F_{01} R_z({\\theta}_1) F_{12} R_z({\\theta}_2) F_{23} R_z({\\theta}_3) p_0$$\n",
    "- 3 types of joints, 1-DOF joints, 2-DOF joints and 3-DOF joints. Pupper only uses 1-DOF for simplicity.\n",
    "\n",
    "#### Formulate IK problem\n",
    "- Ask - what is the condition for a pose such that the toe reaches point $p$. This is forumated as $ C(q) = p(q) - \\bar{p} = 0 $\n",
    "- Now plug in $p(q)$ and you recover an optimization problem, specifically when $C(q)$ is non linear or if there are multiple solutions.\n",
    "\n",
    "#### Solve IK via Optimization\n",
    "$$ \\text{min } || C(q) ^2 || $$\n",
    "- To solve this, we use gradient descent.\n"
   ]
  },
  {
   "cell_type": "code",
   "execution_count": null,
   "metadata": {},
   "outputs": [],
   "source": [
    "# rough pseudo code for gradient descent in inverse kinematics\n",
    "\n",
    "import numpy as np\n",
    "\n",
    "cq = 0\n",
    "epsilon = 0.01\n",
    "learning_rate = 0.01\n",
    "\n",
    "while np.abs(cq) **2 > epsilon: \n",
    "    d = 2 * cq * np.dot(J.T, J) # find derivative of cost function with respect to pose q\n",
    "    q = q - learning_rate * d"
   ]
  },
  {
   "cell_type": "markdown",
   "metadata": {},
   "source": [
    "#### Jacobian Matrix\n",
    "\n",
    "$$ p(q) = \\text{Proj }p(q)$$\n",
    "\n",
    "Basically we need to find the derivative of the rotation matrix with respect to ${\\theta}_n$, and hence we can then recover the derivative of the cost function.  \n",
    "\n"
   ]
  },
  {
   "cell_type": "code",
   "execution_count": 3,
   "metadata": {},
   "outputs": [
    {
     "name": "stdout",
     "output_type": "stream",
     "text": [
      "1\n"
     ]
    }
   ],
   "source": [
    "import numpy as np\n",
    "\n",
    "array = np.array([0, 1, 2])\n",
    "first, second, third = array\n",
    "\n",
    "print(second)\n"
   ]
  },
  {
   "cell_type": "code",
   "execution_count": null,
   "metadata": {},
   "outputs": [],
   "source": []
  }
 ],
 "metadata": {
  "kernelspec": {
   "display_name": "Python 3",
   "language": "python",
   "name": "python3"
  },
  "language_info": {
   "codemirror_mode": {
    "name": "ipython",
    "version": 3
   },
   "file_extension": ".py",
   "mimetype": "text/x-python",
   "name": "python",
   "nbconvert_exporter": "python",
   "pygments_lexer": "ipython3",
   "version": "3.11.4"
  }
 },
 "nbformat": 4,
 "nbformat_minor": 2
}
