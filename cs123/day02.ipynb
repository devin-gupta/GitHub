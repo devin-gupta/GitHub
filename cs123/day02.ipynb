{
 "cells": [
  {
   "cell_type": "markdown",
   "metadata": {},
   "source": [
    "## Day 2, Forward Kinematics\n",
    "\n",
    "Today we're dealing with forward kinematics, here are some interesting notes. \n",
    "\n",
    "#### Kinematics\n",
    "- Pupper is technically has 18 degrees of freedom, 12 for each leg and 3 motors, and then an additional 6. \n",
    "- Forward Kinematics is entirely determined -> getting end affector positions from pose, $q \\rightarrow x$\n",
    "- Inverse Kinematics is undetermined -> getting pose from end affector positions, $x \\rightarrow q$\n",
    "\n",
    "#### Coordinate Frame\n",
    "- Start with world coordinate (absolute positon) and then define a particular position\n",
    "- From there define a local coordinate system through each transformation axis.\n",
    "\n",
    "For example, a translation matrix and a rotation matrix can be defined as follows:\n",
    "\n",
    "**Translation Matrix:**\n",
    "A translation matrix moves a point from one location to another in a 3D space. For a translation by $(tx, ty, tz)$, the matrix is:\n",
    "\n",
    "$$\n",
    "T = \\begin{bmatrix}\n",
    "1 & 0 & 0 & tx \\\\\n",
    "0 & 1 & 0 & ty \\\\\n",
    "0 & 0 & 1 & tz \\\\\n",
    "0 & 0 & 0 & 1\n",
    "\\end{bmatrix}\n",
    "$$\n",
    "\n",
    "**Rotation Matrix:**\n",
    "A rotation matrix rotates a point around an axis. For a rotation by angle $\\theta$ around the z-axis, the matrix is:\n",
    "\n",
    "$$\n",
    "R_z(\\theta) = \\begin{bmatrix}\n",
    "\\cos\\theta & -\\sin\\theta & 0 & 0 \\\\\n",
    "\\sin\\theta & \\cos\\theta & 0 & 0 \\\\\n",
    "0 & 0 & 1 & 0 \\\\\n",
    "0 & 0 & 0 & 1\n",
    "\\end{bmatrix}\n",
    "$$"
   ]
  },
  {
   "cell_type": "code",
   "execution_count": null,
   "metadata": {},
   "outputs": [],
   "source": []
  }
 ],
 "metadata": {
  "language_info": {
   "name": "python"
  }
 },
 "nbformat": 4,
 "nbformat_minor": 2
}
