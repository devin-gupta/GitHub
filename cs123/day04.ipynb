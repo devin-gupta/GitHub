{
 "cells": [
  {
   "cell_type": "markdown",
   "metadata": {},
   "source": [
    "## Day 4, Heuristic Walking\n",
    "\n",
    "How do we get pupper to start walking well? \n",
    "\n",
    "#### Defining Gaits\n",
    "\n",
    "Remember following gaits: \n",
    "- Canter\n",
    "- Trot, this is diagonal walking format\n",
    "\n",
    "Then there are <b>swing</b> and <b>support</b> legs. This is also rotated through in stages.\n",
    "\n",
    "#### Walking Behavior\n",
    "\n",
    "In order to create a trot, we can use our triangular leg motion for all legs to push the robot forward. \n",
    "There are also needs to be some short delay between the swing and support leg for this to work. \n",
    "\n",
    "To control the speed, we can control base of trot triangle length or increasing frequency. These don't come without tradeoffs. \n",
    "\n",
    "<hr>\n",
    "\n",
    "#### Lab Today\n",
    "\n",
    "* make sure you test motors thoroughly.\n",
    "* try to make it walk, if you can't just show it on the stand. \n",
    "* in analysis, play around with diff trotting game values and such. \n",
    "* if motors are acting weird, sometimes it is battery problem.\n"
   ]
  }
 ],
 "metadata": {
  "language_info": {
   "name": "python"
  }
 },
 "nbformat": 4,
 "nbformat_minor": 2
}
