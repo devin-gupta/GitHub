{
 "cells": [
  {
   "cell_type": "markdown",
   "metadata": {},
   "source": [
    "## Day 4, Heuristic Walking\n",
    "\n",
    "How do we get pupper to start walking well? \n",
    "\n",
    "#### Defining Gaits\n",
    "\n",
    "Remember following gaits: \n",
    "- Canter\n",
    "- Trot, this is diagonal walking format\n",
    "\n",
    "Then there are <b>swing</b> and <b>support</b> legs. This is also rotated through in stages.\n",
    "\n",
    "#### Walking Behavior\n",
    "\n",
    "In order to create a trot, we can use our triangular leg motion for all legs to push the robot forward. \n",
    "There are also needs to be some short delay between the swing and support leg for this to work. \n",
    "\n",
    "\n",
    "#### Defining a Pose\n",
    "- Consider the problem where we are given the pose and position, $q$, and we ask what is the orientation and translation to the end effector? \n",
    "- Note that simplicity, we suggest that $ T_{0 \\rightarrow 1} R_0 = F_{01} $.\n",
    "$$ p(q) = F_{01} R_z({\\theta}_1) F_{12} R_z({\\theta}_2) F_{23} R_z({\\theta}_3) p_0$$\n",
    "- 3 types of joints, 1-DOF joints, 2-DOF joints and 3-DOF joints. Pupper only uses 1-DOF for simplicity.\n",
    "\n",
    "#### Formulate IK problem\n",
    "- Ask - what is the condition for a pose such that the toe reaches point $p$. This is forumated as $ C(q) = p(q) - \\bar{p} = 0 $\n",
    "- Now plug in $p(q)$ and you recover an optimization problem, specifically when $C(q)$ is non linear or if there are multiple solutions.\n",
    "\n",
    "#### Solve IK via Optimization\n",
    "$$ \\text{min } || C(q) ^2 || $$\n",
    "- To solve this, we use gradient descent.\n"
   ]
  },
  {
   "cell_type": "code",
   "execution_count": null,
   "metadata": {},
   "outputs": [],
   "source": []
  }
 ],
 "metadata": {
  "language_info": {
   "name": "python"
  }
 },
 "nbformat": 4,
 "nbformat_minor": 2
}
